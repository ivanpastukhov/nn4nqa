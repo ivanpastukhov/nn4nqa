{
 "cells": [
  {
   "cell_type": "code",
   "execution_count": 1,
   "metadata": {},
   "outputs": [],
   "source": [
    "import pandas as pd\n",
    "import torch\n",
    "import numpy as np\n",
    "import os\n",
    "import pickle\n",
    "from custom_model.model import SimpleNet\n",
    "from custom_model.train import Train"
   ]
  },
  {
   "cell_type": "code",
   "execution_count": 2,
   "metadata": {},
   "outputs": [
    {
     "name": "stdout",
     "output_type": "stream",
     "text": [
      "Device:  cuda\n"
     ]
    }
   ],
   "source": [
    "USE_CUDA = torch.cuda.is_available()\n",
    "device = torch.device(\"cuda\" if USE_CUDA else \"cpu\")\n",
    "print('Device: ', device)"
   ]
  },
  {
   "cell_type": "code",
   "execution_count": 3,
   "metadata": {},
   "outputs": [],
   "source": [
    "def read_pickle(fname):\n",
    "    with open(fname, 'rb') as fin:\n",
    "        return pickle.load(fin)"
   ]
  },
  {
   "cell_type": "code",
   "execution_count": 4,
   "metadata": {},
   "outputs": [
    {
     "name": "stdout",
     "output_type": "stream",
     "text": [
      "Train shape: (20347, 9) \n",
      "Test shape: (6116, 9)\n"
     ]
    }
   ],
   "source": [
    "df_train = pd.read_pickle('./data/processed/wikiqa_df_train.pickle')\n",
    "df_test = pd.read_pickle('./data/processed/wikiqa_df_test.pickle')\n",
    "voc = read_pickle('./data/processed/vocabulary.pickle')\n",
    "\n",
    "print('Train shape: {} \\n\\\n",
    "Test shape: {}'.format(df_train.shape, df_test.shape))"
   ]
  },
  {
   "cell_type": "code",
   "execution_count": 5,
   "metadata": {},
   "outputs": [
    {
     "data": {
      "text/html": [
       "<div>\n",
       "<style scoped>\n",
       "    .dataframe tbody tr th:only-of-type {\n",
       "        vertical-align: middle;\n",
       "    }\n",
       "\n",
       "    .dataframe tbody tr th {\n",
       "        vertical-align: top;\n",
       "    }\n",
       "\n",
       "    .dataframe thead th {\n",
       "        text-align: right;\n",
       "    }\n",
       "</style>\n",
       "<table border=\"1\" class=\"dataframe\">\n",
       "  <thead>\n",
       "    <tr style=\"text-align: right;\">\n",
       "      <th></th>\n",
       "      <th>QuestionID</th>\n",
       "      <th>Question</th>\n",
       "      <th>DocumentID</th>\n",
       "      <th>DocumentTitle</th>\n",
       "      <th>SentenceID</th>\n",
       "      <th>Sentence</th>\n",
       "      <th>Label</th>\n",
       "      <th>Question_encoded</th>\n",
       "      <th>Sentence_encoded</th>\n",
       "    </tr>\n",
       "  </thead>\n",
       "  <tbody>\n",
       "    <tr>\n",
       "      <th>0</th>\n",
       "      <td>Q1</td>\n",
       "      <td>how are glacier caves formed</td>\n",
       "      <td>D1</td>\n",
       "      <td>Glacier cave</td>\n",
       "      <td>D1-0</td>\n",
       "      <td>a partly submerged glacier cave on perito more...</td>\n",
       "      <td>0</td>\n",
       "      <td>[2622, 3473, 2381, 524, 3311, 0, 0, 0, 0, 0, 0...</td>\n",
       "      <td>[1878, 4448, 10810, 2381, 21552, 1328, 24841, ...</td>\n",
       "    </tr>\n",
       "    <tr>\n",
       "      <th>1</th>\n",
       "      <td>Q1</td>\n",
       "      <td>how are glacier caves formed</td>\n",
       "      <td>D1</td>\n",
       "      <td>Glacier cave</td>\n",
       "      <td>D1-1</td>\n",
       "      <td>the ice facade is approximately m high</td>\n",
       "      <td>0</td>\n",
       "      <td>[2622, 3473, 2381, 524, 3311, 0, 0, 0, 0, 0, 0...</td>\n",
       "      <td>[474, 40, 24270, 383, 13999, 2461, 2387, 0, 0,...</td>\n",
       "    </tr>\n",
       "    <tr>\n",
       "      <th>2</th>\n",
       "      <td>Q1</td>\n",
       "      <td>how are glacier caves formed</td>\n",
       "      <td>D1</td>\n",
       "      <td>Glacier cave</td>\n",
       "      <td>D1-2</td>\n",
       "      <td>ice formations in the titlis glacier cave</td>\n",
       "      <td>0</td>\n",
       "      <td>[2622, 3473, 2381, 524, 3311, 0, 0, 0, 0, 0, 0...</td>\n",
       "      <td>[40, 11084, 1433, 474, 25610, 2381, 21552, 0, ...</td>\n",
       "    </tr>\n",
       "    <tr>\n",
       "      <th>3</th>\n",
       "      <td>Q1</td>\n",
       "      <td>how are glacier caves formed</td>\n",
       "      <td>D1</td>\n",
       "      <td>Glacier cave</td>\n",
       "      <td>D1-3</td>\n",
       "      <td>a glacier cave is a cave formed within the ice...</td>\n",
       "      <td>1</td>\n",
       "      <td>[2622, 3473, 2381, 524, 3311, 0, 0, 0, 0, 0, 0...</td>\n",
       "      <td>[1878, 2381, 21552, 383, 1878, 21552, 3311, 18...</td>\n",
       "    </tr>\n",
       "    <tr>\n",
       "      <th>4</th>\n",
       "      <td>Q1</td>\n",
       "      <td>how are glacier caves formed</td>\n",
       "      <td>D1</td>\n",
       "      <td>Glacier cave</td>\n",
       "      <td>D1-4</td>\n",
       "      <td>glacier caves are often called ice caves but t...</td>\n",
       "      <td>0</td>\n",
       "      <td>[2622, 3473, 2381, 524, 3311, 0, 0, 0, 0, 0, 0...</td>\n",
       "      <td>[2381, 524, 3473, 988, 354, 40, 524, 21447, 38...</td>\n",
       "    </tr>\n",
       "  </tbody>\n",
       "</table>\n",
       "</div>"
      ],
      "text/plain": [
       "  QuestionID                      Question DocumentID DocumentTitle  \\\n",
       "0         Q1  how are glacier caves formed         D1  Glacier cave   \n",
       "1         Q1  how are glacier caves formed         D1  Glacier cave   \n",
       "2         Q1  how are glacier caves formed         D1  Glacier cave   \n",
       "3         Q1  how are glacier caves formed         D1  Glacier cave   \n",
       "4         Q1  how are glacier caves formed         D1  Glacier cave   \n",
       "\n",
       "  SentenceID                                           Sentence  Label  \\\n",
       "0       D1-0  a partly submerged glacier cave on perito more...      0   \n",
       "1       D1-1             the ice facade is approximately m high      0   \n",
       "2       D1-2          ice formations in the titlis glacier cave      0   \n",
       "3       D1-3  a glacier cave is a cave formed within the ice...      1   \n",
       "4       D1-4  glacier caves are often called ice caves but t...      0   \n",
       "\n",
       "                                    Question_encoded  \\\n",
       "0  [2622, 3473, 2381, 524, 3311, 0, 0, 0, 0, 0, 0...   \n",
       "1  [2622, 3473, 2381, 524, 3311, 0, 0, 0, 0, 0, 0...   \n",
       "2  [2622, 3473, 2381, 524, 3311, 0, 0, 0, 0, 0, 0...   \n",
       "3  [2622, 3473, 2381, 524, 3311, 0, 0, 0, 0, 0, 0...   \n",
       "4  [2622, 3473, 2381, 524, 3311, 0, 0, 0, 0, 0, 0...   \n",
       "\n",
       "                                    Sentence_encoded  \n",
       "0  [1878, 4448, 10810, 2381, 21552, 1328, 24841, ...  \n",
       "1  [474, 40, 24270, 383, 13999, 2461, 2387, 0, 0,...  \n",
       "2  [40, 11084, 1433, 474, 25610, 2381, 21552, 0, ...  \n",
       "3  [1878, 2381, 21552, 383, 1878, 21552, 3311, 18...  \n",
       "4  [2381, 524, 3473, 988, 354, 40, 524, 21447, 38...  "
      ]
     },
     "execution_count": 5,
     "metadata": {},
     "output_type": "execute_result"
    }
   ],
   "source": [
    "df_train.head()"
   ]
  },
  {
   "cell_type": "code",
   "execution_count": 6,
   "metadata": {},
   "outputs": [],
   "source": [
    "net = SimpleNet(voc['voc_len'], 256, 128)\n",
    "# net.to(device)"
   ]
  },
  {
   "cell_type": "code",
   "execution_count": 7,
   "metadata": {},
   "outputs": [],
   "source": [
    "# df_train = df_train.iloc[:20]"
   ]
  },
  {
   "cell_type": "code",
   "execution_count": 8,
   "metadata": {},
   "outputs": [],
   "source": [
    "Xq = np.array(df_train.Question_encoded.values.tolist())\n",
    "Xa = np.array(df_train.Sentence_encoded.values.tolist())\n",
    "t = np.array(df_train.Label.values.tolist())"
   ]
  },
  {
   "cell_type": "code",
   "execution_count": 9,
   "metadata": {},
   "outputs": [],
   "source": [
    "Xq = torch.from_numpy(Xq)\n",
    "Xa = torch.from_numpy(Xa)\n",
    "t = torch.from_numpy(t)"
   ]
  },
  {
   "cell_type": "code",
   "execution_count": 10,
   "metadata": {},
   "outputs": [],
   "source": [
    "batch_size = 50\n",
    "epochs = 100\n",
    "\n",
    "optimizer = torch.optim.Adam\n",
    "loss_func = torch.nn.CrossEntropyLoss(weight=torch.tensor([0.05, 1.]).to(device))"
   ]
  },
  {
   "cell_type": "code",
   "execution_count": 11,
   "metadata": {},
   "outputs": [],
   "source": [
    "# net.to(device)"
   ]
  },
  {
   "cell_type": "code",
   "execution_count": 12,
   "metadata": {},
   "outputs": [
    {
     "name": "stdout",
     "output_type": "stream",
     "text": [
      "Epoch: 0, loss: 0.7022308111190796\n",
      "Epoch: 1, loss: 0.6250463128089905\n",
      "Epoch: 2, loss: 0.5366259217262268\n",
      "Epoch: 3, loss: 0.5190755724906921\n",
      "Epoch: 4, loss: 0.48851391673088074\n",
      "Epoch: 5, loss: 0.48703405261039734\n",
      "Epoch: 6, loss: 0.48426684737205505\n",
      "Epoch: 7, loss: 0.48432716727256775\n",
      "Epoch: 8, loss: 0.4838498830795288\n",
      "Epoch: 9, loss: 0.4771558940410614\n"
     ]
    }
   ],
   "source": [
    "net.fit(Xq, Xa, t, 50, 10, loss_func, optimizer, device)"
   ]
  },
  {
   "cell_type": "code",
   "execution_count": null,
   "metadata": {
    "scrolled": true
   },
   "outputs": [],
   "source": [
    "net_fname = 'net.torch'\n",
    "if not os.path.exists(net_fname):\n",
    "    trainer = Train()\n",
    "    trainer.fit(Xq, Xa, t, net, batch_size, epochs, loss_func, optimizer, device)\n",
    "    torch.save(net, net_fname)\n",
    "else:\n",
    "    print('File already exists. Name: ', net_fname)\n",
    "    net = torch.load(net_fname)\n",
    "    net.to(device)"
   ]
  },
  {
   "cell_type": "markdown",
   "metadata": {},
   "source": [
    "### Test:"
   ]
  },
  {
   "cell_type": "code",
   "execution_count": null,
   "metadata": {},
   "outputs": [],
   "source": [
    "from sklearn.metrics import roc_auc_score"
   ]
  },
  {
   "cell_type": "code",
   "execution_count": null,
   "metadata": {},
   "outputs": [],
   "source": [
    "Xq_test = np.array(df_test.Question_encoded.values.tolist())\n",
    "Xa_test = np.array(df_test.Sentence_encoded.values.tolist())\n",
    "t_test = np.array(df_test.Label.values.tolist())\n",
    "\n",
    "Xq_test = torch.from_numpy(Xq_test)\n",
    "Xa_test = torch.from_numpy(Xa_test)\n",
    "t_test = torch.from_numpy(t_test)\n",
    "\n",
    "t_pred = net(Xq_test.to(device), Xa_test.to(device))\n",
    "t_pred[:10]"
   ]
  },
  {
   "cell_type": "code",
   "execution_count": null,
   "metadata": {},
   "outputs": [],
   "source": [
    "print('ROC-AUC score: {:}', roc_auc_score(t_test.tolist(), np.array(t_pred.tolist()).T[1]))"
   ]
  },
  {
   "cell_type": "code",
   "execution_count": null,
   "metadata": {},
   "outputs": [],
   "source": []
  }
 ],
 "metadata": {
  "kernelspec": {
   "display_name": "Python 3.6 Ivan Pastuhov",
   "language": "python",
   "name": "pastuhov"
  },
  "language_info": {
   "codemirror_mode": {
    "name": "ipython",
    "version": 3
   },
   "file_extension": ".py",
   "mimetype": "text/x-python",
   "name": "python",
   "nbconvert_exporter": "python",
   "pygments_lexer": "ipython3",
   "version": "3.6.6"
  }
 },
 "nbformat": 4,
 "nbformat_minor": 2
}
