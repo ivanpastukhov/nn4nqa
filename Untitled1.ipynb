{
 "cells": [
  {
   "cell_type": "code",
   "execution_count": 17,
   "metadata": {},
   "outputs": [
    {
     "name": "stdout",
     "output_type": "stream",
     "text": [
      "Device:  cpu\n",
      "Train shape: (100, 9) \n",
      "Test shape: (6116, 9)\n",
      "Training...\n",
      "Epoch: 0, loss: 0.73535. 0.7 [s] per epoch\n",
      "Epoch: 1, loss: 0.73449. 0.72 [s] per epoch\n",
      "Epoch: 2, loss: 0.73117. 0.71 [s] per epoch\n",
      "Epoch: 3, loss: 0.72724. 0.66 [s] per epoch\n",
      "Epoch: 4, loss: 0.72324. 0.68 [s] per epoch\n",
      "Epoch: 5, loss: 0.71935. 0.68 [s] per epoch\n",
      "Epoch: 6, loss: 0.71563. 0.65 [s] per epoch\n",
      "Epoch: 7, loss: 0.71209. 0.66 [s] per epoch\n",
      "Epoch: 8, loss: 0.70873. 0.68 [s] per epoch\n",
      "Epoch: 9, loss: 0.70554. 0.63 [s] per epoch\n",
      "Done!\n",
      "Training...\n",
      "Epoch: 0, loss: 0.73893. 1.1 [s] per epoch\n",
      "Epoch: 1, loss: 0.73822. 1.0 [s] per epoch\n",
      "Epoch: 2, loss: 0.73441. 1.1 [s] per epoch\n",
      "Epoch: 3, loss: 0.73000. 1.0 [s] per epoch\n",
      "Epoch: 4, loss: 0.72569. 1.0 [s] per epoch\n",
      "Epoch: 5, loss: 0.72168. 0.99 [s] per epoch\n",
      "Epoch: 6, loss: 0.71796. 0.97 [s] per epoch\n",
      "Epoch: 7, loss: 0.71443. 1.0 [s] per epoch\n",
      "Epoch: 8, loss: 0.71093. 0.98 [s] per epoch\n",
      "Epoch: 9, loss: 0.70725. 1.0 [s] per epoch\n",
      "Done!\n"
     ]
    }
   ],
   "source": [
    "import pandas as pd\n",
    "import torch\n",
    "import numpy as np\n",
    "import os\n",
    "import pickle\n",
    "from custom_model.model import SimpleNet, SAttendedSimpleNet\n",
    "\n",
    "USE_CUDA = torch.cuda.is_available()\n",
    "device = torch.device(\"cuda\" if USE_CUDA else \"cpu\")\n",
    "print('Device: ', device)\n",
    "\n",
    "def read_pickle(fname):\n",
    "    with open(fname, 'rb') as fin:\n",
    "        return pickle.load(fin)\n",
    "\n",
    "df_train = pd.read_pickle('./data/processed/wikiqa_df_train.pickle')\n",
    "df_test = pd.read_pickle('./data/processed/wikiqa_df_test.pickle')\n",
    "voc = read_pickle('./data/processed/vocabulary.pickle')\n",
    "\n",
    "df_train = df_train.iloc[:100]\n",
    "\n",
    "print('Train shape: {} \\n\\\n",
    "Test shape: {}'.format(df_train.shape, df_test.shape))\n",
    "\n",
    "net_simple = SimpleNet(voc['voc_len'], 64, 64)\n",
    "net_att = SAttendedSimpleNet(voc['voc_len'], 128, 64, 32, 3)\n",
    "\n",
    "Xq = np.array(df_train.Question_encoded.values.tolist())\n",
    "Xa = np.array(df_train.Sentence_encoded.values.tolist())\n",
    "t = np.array(df_train.Label.values.tolist())\n",
    "\n",
    "Xq = torch.from_numpy(Xq)\n",
    "Xa = torch.from_numpy(Xa)\n",
    "t = torch.from_numpy(t)\n",
    "\n",
    "batch_size = 50\n",
    "epochs = 10\n",
    "\n",
    "optimizer = torch.optim.Adam\n",
    "loss_func = torch.nn.CrossEntropyLoss(weight=torch.tensor([0.05, 1.]).to(device))\n",
    "\n",
    "net_simple.fit(Xq, Xa, t, batch_size, epochs, loss_func, optimizer, device)\n",
    "net_att.fit(Xq, Xa, t, batch_size, epochs, loss_func, optimizer, device)"
   ]
  },
  {
   "cell_type": "code",
   "execution_count": 15,
   "metadata": {},
   "outputs": [
    {
     "ename": "NameError",
     "evalue": "name 'net_simple' is not defined",
     "output_type": "error",
     "traceback": [
      "\u001b[0;31m---------------------------------------------------------------------------\u001b[0m",
      "\u001b[0;31mNameError\u001b[0m                                 Traceback (most recent call last)",
      "\u001b[0;32m<ipython-input-15-dd7cbf3b0175>\u001b[0m in \u001b[0;36m<module>\u001b[0;34m()\u001b[0m\n\u001b[0;32m----> 1\u001b[0;31m \u001b[0mnet_simple\u001b[0m\u001b[0;34m.\u001b[0m\u001b[0mpredict\u001b[0m\u001b[0;34m(\u001b[0m\u001b[0;34m)\u001b[0m\u001b[0;34m\u001b[0m\u001b[0m\n\u001b[0m",
      "\u001b[0;31mNameError\u001b[0m: name 'net_simple' is not defined"
     ]
    }
   ],
   "source": [
    "net_simple.forward()"
   ]
  },
  {
   "cell_type": "code",
   "execution_count": null,
   "metadata": {
    "collapsed": true
   },
   "outputs": [],
   "source": []
  }
 ],
 "metadata": {
  "kernelspec": {
   "display_name": "Python 3",
   "language": "python",
   "name": "python3"
  },
  "language_info": {
   "codemirror_mode": {
    "name": "ipython",
    "version": 3
   },
   "file_extension": ".py",
   "mimetype": "text/x-python",
   "name": "python",
   "nbconvert_exporter": "python",
   "pygments_lexer": "ipython3",
   "version": "3.6.2"
  }
 },
 "nbformat": 4,
 "nbformat_minor": 2
}
