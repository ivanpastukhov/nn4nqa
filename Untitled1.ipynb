{
 "cells": [
  {
   "cell_type": "code",
   "execution_count": 1,
   "metadata": {},
   "outputs": [
    {
     "name": "stdout",
     "output_type": "stream",
     "text": [
      "Device:  cuda\n"
     ]
    }
   ],
   "source": [
    "import pandas as pd\n",
    "import torch\n",
    "import numpy as np\n",
    "import os\n",
    "import pickle\n",
    "from custom_model.model import SimpleNet, SAttendedSimpleNet\n",
    "\n",
    "\n",
    "USE_CUDA = torch.cuda.is_available()\n",
    "device = torch.device(\"cuda\" if USE_CUDA else \"cpu\")\n",
    "print('Device: ', device)\n",
    "\n",
    "def read_pickle(fname):\n",
    "    with open(fname, 'rb') as fin:\n",
    "        return pickle.load(fin)\n",
    "\n",
    "df_train = pd.read_pickle('./data/processed/wikiqa_df_train.pickle')\n",
    "df_test = pd.read_pickle('./data/processed/wikiqa_df_test.pickle')\n",
    "df_test, df_val = np.split(df_test, 2)\n",
    "voc = read_pickle('./data/processed/vocabulary.pickle')"
   ]
  },
  {
   "cell_type": "code",
   "execution_count": 2,
   "metadata": {},
   "outputs": [
    {
     "name": "stdout",
     "output_type": "stream",
     "text": [
      "Train shape: (20347, 9) \n",
      "Test shape: (3058, 9) \n",
      "Val shape (3058, 9): \n"
     ]
    }
   ],
   "source": [
    "# df_train = df_train.iloc[:100]\n",
    "\n",
    "print('Train shape: {} \\n\\\n",
    "Test shape: {} \\n\\\n",
    "Val shape {}: '.format(df_train.shape, df_test.shape, df_val.shape))\n",
    "\n",
    "net_simple = SimpleNet(voc['voc_len'], 16, 16)\n",
    "net_att = SAttendedSimpleNet(voc['voc_len'], 128, 128, 64, 3)\n",
    "\n",
    "Xq = np.array(df_train.Question_encoded.values.tolist())\n",
    "Xa = np.array(df_train.Sentence_encoded.values.tolist())\n",
    "t = np.array(df_train.Label.values.tolist())\n",
    "\n",
    "Xq = torch.from_numpy(Xq)\n",
    "Xa = torch.from_numpy(Xa)\n",
    "t = torch.from_numpy(t)\n",
    "\n",
    "batch_size = 256\n",
    "epochs = 20"
   ]
  },
  {
   "cell_type": "code",
   "execution_count": 3,
   "metadata": {},
   "outputs": [],
   "source": [
    "Xq_val = np.array(df_val.Question_encoded.values.tolist())\n",
    "Xa_val = np.array(df_val.Sentence_encoded.values.tolist())\n",
    "t_val = np.array(df_val.Label.values.tolist())\n",
    "val_data = [(torch.from_numpy(Xq_val), torch.from_numpy(Xa_val)), torch.from_numpy(t_val)]"
   ]
  },
  {
   "cell_type": "code",
   "execution_count": 4,
   "metadata": {},
   "outputs": [
    {
     "name": "stdout",
     "output_type": "stream",
     "text": [
      "Training...\n",
      "Epoch: 0, loss: 0.72153. 5.9 [s] per epoch. Val loss: 0.69855\n",
      "Epoch: 1, loss: 0.68594. 5.4 [s] per epoch. Val loss: 0.69301\n",
      "Epoch: 2, loss: 0.65495. 5.2 [s] per epoch. Val loss: 0.73162\n",
      "Epoch: 3, loss: 0.60546. 5.3 [s] per epoch. Val loss: 0.68717\n",
      "Epoch: 4, loss: 0.55918. 5.2 [s] per epoch. Val loss: 0.67085\n",
      "Epoch: 5, loss: 0.54345. 5.3 [s] per epoch. Val loss: 0.65700\n",
      "Epoch: 6, loss: 0.47130. 5.1 [s] per epoch. Val loss: 0.65441\n",
      "Epoch: 7, loss: 0.41212. 5.2 [s] per epoch. Val loss: 0.68178\n",
      "Epoch: 8, loss: 0.48990. 5.3 [s] per epoch. Val loss: 0.66767\n",
      "Epoch: 9, loss: 0.47798. 5.1 [s] per epoch. Val loss: 0.67524\n",
      "Epoch: 10, loss: 0.38176. 5.6 [s] per epoch. Val loss: 0.66803\n",
      "Epoch: 11, loss: 0.39876. 5.3 [s] per epoch. Val loss: 0.67515\n",
      "Epoch: 12, loss: 0.37616. 5.3 [s] per epoch. Val loss: 0.67172\n",
      "Epoch: 13, loss: 0.40056. 5.4 [s] per epoch. Val loss: 0.66503\n",
      "Epoch: 14, loss: 0.40066. 5.5 [s] per epoch. Val loss: 0.65908\n",
      "Epoch: 15, loss: 0.37227. 5.4 [s] per epoch. Val loss: 0.68239\n",
      "Epoch: 16, loss: 0.36798. 5.3 [s] per epoch. Val loss: 0.69198\n",
      "Epoch: 17, loss: 0.37094. 5.2 [s] per epoch. Val loss: 0.67423\n",
      "Epoch: 18, loss: 0.35439. 5.2 [s] per epoch. Val loss: 0.68327\n",
      "Epoch: 19, loss: 0.34122. 5.2 [s] per epoch. Val loss: 0.69868\n",
      "Done!\n",
      "Training...\n",
      "Epoch: 0, loss: 0.75492. 6.6 [s] per epoch. Val loss: 0.70013\n",
      "Epoch: 1, loss: 0.94216. 6.7 [s] per epoch. Val loss: 0.71775\n",
      "Epoch: 2, loss: 0.70102. 6.6 [s] per epoch. Val loss: 0.82165\n",
      "Epoch: 3, loss: 0.69081. 6.6 [s] per epoch. Val loss: 0.74943\n",
      "Epoch: 4, loss: 0.92551. 6.5 [s] per epoch. Val loss: 0.80469\n",
      "Epoch: 5, loss: 0.92551. 6.5 [s] per epoch. Val loss: 0.80504\n",
      "Epoch: 6, loss: 0.92551. 6.5 [s] per epoch. Val loss: 0.80417\n",
      "Epoch: 7, loss: 0.92551. 6.5 [s] per epoch. Val loss: 0.80434\n",
      "Epoch: 8, loss: 0.92551. 6.6 [s] per epoch. Val loss: 0.80522\n",
      "Epoch: 9, loss: 0.92551. 6.6 [s] per epoch. Val loss: 0.80557\n",
      "Epoch: 10, loss: 0.92551. 6.6 [s] per epoch. Val loss: 0.80399\n",
      "Epoch: 11, loss: 0.92551. 6.5 [s] per epoch. Val loss: 0.80487\n",
      "Epoch: 12, loss: 0.92551. 6.6 [s] per epoch. Val loss: 0.79840\n",
      "Epoch: 13, loss: 0.92891. 6.5 [s] per epoch. Val loss: 0.80504\n",
      "Epoch: 14, loss: 0.92551. 6.6 [s] per epoch. Val loss: 0.80487\n",
      "Epoch: 15, loss: 0.92891. 6.5 [s] per epoch. Val loss: 0.80854\n",
      "Epoch: 16, loss: 0.92551. 6.6 [s] per epoch. Val loss: 0.80102\n",
      "Epoch: 17, loss: 0.92891. 6.5 [s] per epoch. Val loss: 0.81029\n",
      "Epoch: 18, loss: 0.92891. 6.6 [s] per epoch. Val loss: 0.79857\n",
      "Epoch: 19, loss: 0.92891. 6.6 [s] per epoch. Val loss: 0.80399\n",
      "Done!\n"
     ]
    }
   ],
   "source": [
    "optimizer = torch.optim.Adam\n",
    "loss_func = torch.nn.CrossEntropyLoss(weight=torch.tensor([0.05, 1.]).to(device))\n",
    "\n",
    "net_simple.fit(Xq, Xa, t, batch_size, epochs, loss_func, optimizer, device, val_data)\n",
    "net_att.fit(Xq, Xa, t, batch_size, epochs, loss_func, optimizer, device, val_data)"
   ]
  },
  {
   "cell_type": "code",
   "execution_count": 5,
   "metadata": {},
   "outputs": [
    {
     "data": {
      "text/plain": [
       "<matplotlib.figure.Figure at 0x7f77c4078ac8>"
      ]
     },
     "metadata": {},
     "output_type": "display_data"
    }
   ],
   "source": [
    "import matplotlib.pyplot as plt\n",
    "plt.figure(figsize=(17,8))\n",
    "plt.subplot(1,2,1)\n",
    "plt.plot(net_simple.steps, net_simple.losses)\n",
    "plt.subplot(1,2,2)\n",
    "plt.plot(net_att.steps, net_att.losses)\n",
    "plt.show()"
   ]
  },
  {
   "cell_type": "code",
   "execution_count": null,
   "metadata": {},
   "outputs": [],
   "source": [
    "torch.save(net_simple, 'net_simple.torch')\n",
    "torch.save(net_att, 'net_att.torch')\n",
    "\n",
    "net_simple = torch.load('net_simple.torch')\n",
    "net_att = torch.load('net_att.torch')"
   ]
  },
  {
   "cell_type": "code",
   "execution_count": null,
   "metadata": {},
   "outputs": [],
   "source": [
    "Xq_test = np.array(df_test.Question_encoded.values.tolist())\n",
    "Xa_test = np.array(df_test.Sentence_encoded.values.tolist())\n",
    "t_test = np.array(df_test.Label.values.tolist())\n",
    "\n",
    "Xq_test = torch.from_numpy(Xq_test).cuda()\n",
    "Xa_test = torch.from_numpy(Xa_test).cuda()\n",
    "t_test = torch.from_numpy(t_test).cuda()"
   ]
  },
  {
   "cell_type": "code",
   "execution_count": null,
   "metadata": {},
   "outputs": [],
   "source": [
    "net_simple_pred = net_simple(Xq_test, Xa_test)"
   ]
  },
  {
   "cell_type": "code",
   "execution_count": null,
   "metadata": {},
   "outputs": [],
   "source": [
    "net_att_pred = net_att.to('cpu')(Xq_test.to('cpu'), Xa_test.to('cpu'))"
   ]
  },
  {
   "cell_type": "code",
   "execution_count": null,
   "metadata": {},
   "outputs": [],
   "source": [
    "y_pred_simple = np.array(net_simple_pred.tolist())\n",
    "y_pred_simple"
   ]
  },
  {
   "cell_type": "code",
   "execution_count": null,
   "metadata": {},
   "outputs": [],
   "source": [
    "y_pred_att = np.array(net_att_pred.tolist())\n",
    "y_pred_att"
   ]
  },
  {
   "cell_type": "code",
   "execution_count": null,
   "metadata": {},
   "outputs": [],
   "source": [
    "from sklearn.metrics import roc_auc_score"
   ]
  },
  {
   "cell_type": "code",
   "execution_count": null,
   "metadata": {},
   "outputs": [],
   "source": [
    "roc_auc_score(t_test.tolist(), np.array(y_pred_simple.tolist()).T[1])"
   ]
  },
  {
   "cell_type": "code",
   "execution_count": null,
   "metadata": {},
   "outputs": [],
   "source": [
    "roc_auc_score(t_test.tolist(), np.array(y_pred_att.tolist()).T[1])"
   ]
  },
  {
   "cell_type": "code",
   "execution_count": null,
   "metadata": {},
   "outputs": [],
   "source": [
    "net_att.l_probas[0].size()"
   ]
  },
  {
   "cell_type": "code",
   "execution_count": null,
   "metadata": {},
   "outputs": [],
   "source": [
    "df_test.loc[0, 'Question']"
   ]
  },
  {
   "cell_type": "code",
   "execution_count": null,
   "metadata": {},
   "outputs": [],
   "source": [
    "df_test.loc[0, 'Sentence']"
   ]
  },
  {
   "cell_type": "code",
   "execution_count": null,
   "metadata": {},
   "outputs": [],
   "source": [
    "sum([sum(net_att.l_probas[i][0]) for i in range(len(net_att.l_probas))])"
   ]
  },
  {
   "cell_type": "code",
   "execution_count": null,
   "metadata": {},
   "outputs": [],
   "source": [
    "string = df_test.loc[0, 'Question']\n",
    "score = sum([sum(net_att.l_probas[i][0]) for i in range(len(net_att.l_probas))]).tolist()"
   ]
  },
  {
   "cell_type": "code",
   "execution_count": null,
   "metadata": {},
   "outputs": [],
   "source": [
    "df = pd.DataFrame.from_dict(dict(zip(string.split(), score)), orient='index').sort_values(0)\n",
    "df"
   ]
  },
  {
   "cell_type": "code",
   "execution_count": null,
   "metadata": {},
   "outputs": [],
   "source": [
    "import seaborn as sns\n",
    "from matplotlib import pyplot as plt"
   ]
  },
  {
   "cell_type": "code",
   "execution_count": null,
   "metadata": {},
   "outputs": [],
   "source": [
    "for i in range(3):\n",
    "    plt.figure()\n",
    "    a = net_att.l_probas[i][0].detach().numpy()\n",
    "    sns.heatmap(a[:8, :8], xticklabels=string.split(), yticklabels=string.split())\n",
    "    plt.plot()"
   ]
  },
  {
   "cell_type": "code",
   "execution_count": null,
   "metadata": {},
   "outputs": [],
   "source": [
    "net_att.l_probas[1][0].detach().numpy()[5]"
   ]
  },
  {
   "cell_type": "code",
   "execution_count": null,
   "metadata": {},
   "outputs": [],
   "source": [
    "net_att.l_probas[1].size()"
   ]
  },
  {
   "cell_type": "code",
   "execution_count": null,
   "metadata": {},
   "outputs": [],
   "source": [
    "sum(p.numel() for p in net_att.parameters())"
   ]
  },
  {
   "cell_type": "code",
   "execution_count": null,
   "metadata": {},
   "outputs": [],
   "source": [
    "sum(p.numel() for p in net_simple.parameters())"
   ]
  },
  {
   "cell_type": "code",
   "execution_count": null,
   "metadata": {},
   "outputs": [],
   "source": [
    "df_train.shape"
   ]
  },
  {
   "cell_type": "code",
   "execution_count": null,
   "metadata": {},
   "outputs": [],
   "source": [
    "250*60*4 * 0.1524 / 2."
   ]
  },
  {
   "cell_type": "code",
   "execution_count": null,
   "metadata": {},
   "outputs": [],
   "source": [
    "99000/0.1524 * 15 / 2 / 60 / 60"
   ]
  },
  {
   "cell_type": "code",
   "execution_count": null,
   "metadata": {},
   "outputs": [],
   "source": [
    "import copy\n",
    "def copy_layer(layer, n):\n",
    "    layers = [layer for _ in range(n)]\n",
    "    for i in range(len(layers)):\n",
    "        layers[i].reset_parameters()\n",
    "    return torch.nn.ModuleList(layers)"
   ]
  },
  {
   "cell_type": "code",
   "execution_count": null,
   "metadata": {},
   "outputs": [],
   "source": [
    "# def clones(module, N):\n",
    "#     return nn.ModuleList([copy.deepcopy(module) for _ in range(N)])"
   ]
  },
  {
   "cell_type": "code",
   "execution_count": null,
   "metadata": {},
   "outputs": [],
   "source": [
    "linear_query = copy_layer(torch.nn.Linear(10, 10), 3)"
   ]
  },
  {
   "cell_type": "code",
   "execution_count": null,
   "metadata": {},
   "outputs": [],
   "source": [
    "linear_query[0].weight\n"
   ]
  },
  {
   "cell_type": "code",
   "execution_count": null,
   "metadata": {},
   "outputs": [],
   "source": [
    "linear_query[1].weight"
   ]
  },
  {
   "cell_type": "code",
   "execution_count": null,
   "metadata": {},
   "outputs": [],
   "source": [
    "a = [torch.nn.Linear(10,10) for _ in range(3)]"
   ]
  },
  {
   "cell_type": "code",
   "execution_count": null,
   "metadata": {},
   "outputs": [],
   "source": [
    "a[0].weight"
   ]
  },
  {
   "cell_type": "code",
   "execution_count": null,
   "metadata": {},
   "outputs": [],
   "source": [
    "a[1].weight"
   ]
  },
  {
   "cell_type": "code",
   "execution_count": null,
   "metadata": {},
   "outputs": [],
   "source": [
    "z = []\n",
    "for i in range(3):\n",
    "    z.append(torch.nn.Linear(10,10))"
   ]
  },
  {
   "cell_type": "code",
   "execution_count": null,
   "metadata": {},
   "outputs": [],
   "source": [
    "z[0].weight"
   ]
  },
  {
   "cell_type": "code",
   "execution_count": null,
   "metadata": {},
   "outputs": [],
   "source": [
    "z[1].weight"
   ]
  },
  {
   "cell_type": "code",
   "execution_count": null,
   "metadata": {},
   "outputs": [],
   "source": [
    "a = z[1]\n",
    "a.reset_parameters()\n",
    "a.weight"
   ]
  },
  {
   "cell_type": "code",
   "execution_count": null,
   "metadata": {},
   "outputs": [],
   "source": [
    "4500./7"
   ]
  },
  {
   "cell_type": "code",
   "execution_count": null,
   "metadata": {},
   "outputs": [],
   "source": [
    "110 * 650 / 60 / 60"
   ]
  },
  {
   "cell_type": "code",
   "execution_count": null,
   "metadata": {},
   "outputs": [],
   "source": []
  }
 ],
 "metadata": {
  "kernelspec": {
   "display_name": "Python 3.6 Ivan Pastuhov",
   "language": "python",
   "name": "pastuhov"
  },
  "language_info": {
   "codemirror_mode": {
    "name": "ipython",
    "version": 3
   },
   "file_extension": ".py",
   "mimetype": "text/x-python",
   "name": "python",
   "nbconvert_exporter": "python",
   "pygments_lexer": "ipython3",
   "version": "3.6.6"
  }
 },
 "nbformat": 4,
 "nbformat_minor": 2
}
