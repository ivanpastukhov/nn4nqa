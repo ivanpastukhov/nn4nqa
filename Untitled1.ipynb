{
 "cells": [
  {
   "cell_type": "code",
   "execution_count": 1,
   "metadata": {},
   "outputs": [
    {
     "name": "stdout",
     "output_type": "stream",
     "text": [
      "Device:  cuda\n"
     ]
    }
   ],
   "source": [
    "import pandas as pd\n",
    "import torch\n",
    "import numpy as np\n",
    "import os\n",
    "import pickle\n",
    "from custom_model.model import SimpleNet, SAttendedSimpleNet\n",
    "\n",
    "USE_CUDA = torch.cuda.is_available()\n",
    "device = torch.device(\"cuda\" if USE_CUDA else \"cpu\")\n",
    "print('Device: ', device)\n",
    "\n",
    "def read_pickle(fname):\n",
    "    with open(fname, 'rb') as fin:\n",
    "        return pickle.load(fin)\n",
    "\n",
    "df_train = pd.read_pickle('./data/processed/wikiqa_df_train.pickle')\n",
    "df_test = pd.read_pickle('./data/processed/wikiqa_df_test.pickle')\n",
    "voc = read_pickle('./data/processed/vocabulary.pickle')"
   ]
  },
  {
   "cell_type": "code",
   "execution_count": 2,
   "metadata": {},
   "outputs": [
    {
     "name": "stdout",
     "output_type": "stream",
     "text": [
      "Train shape: (20347, 9) \n",
      "Test shape: (6116, 9)\n"
     ]
    }
   ],
   "source": [
    "# df_train = df_train.iloc[:100]\n",
    "\n",
    "print('Train shape: {} \\n\\\n",
    "Test shape: {}'.format(df_train.shape, df_test.shape))\n",
    "\n",
    "net_simple = SimpleNet(voc['voc_len'], 128, 128)\n",
    "net_att = SAttendedSimpleNet(voc['voc_len'], 128, 128, 64, 3)\n",
    "\n",
    "Xq = np.array(df_train.Question_encoded.values.tolist())\n",
    "Xa = np.array(df_train.Sentence_encoded.values.tolist())\n",
    "t = np.array(df_train.Label.values.tolist())\n",
    "\n",
    "Xq = torch.from_numpy(Xq)\n",
    "Xa = torch.from_numpy(Xa)\n",
    "t = torch.from_numpy(t)\n",
    "\n",
    "batch_size = 50\n",
    "epochs = 20"
   ]
  },
  {
   "cell_type": "code",
   "execution_count": 3,
   "metadata": {},
   "outputs": [
    {
     "name": "stdout",
     "output_type": "stream",
     "text": [
      "Training...\n",
      "Epoch: 0, loss: 0.68180. 7.8 [s] per epoch\n",
      "Epoch: 1, loss: 0.69719. 7.0 [s] per epoch\n",
      "Epoch: 2, loss: 0.68043. 7.1 [s] per epoch\n",
      "Epoch: 3, loss: 0.65107. 7.1 [s] per epoch\n",
      "Epoch: 4, loss: 0.64152. 7.1 [s] per epoch\n",
      "Epoch: 5, loss: 0.49317. 7.1 [s] per epoch\n",
      "Epoch: 6, loss: 0.60847. 7.0 [s] per epoch\n",
      "Epoch: 7, loss: 0.48703. 7.0 [s] per epoch\n",
      "Epoch: 8, loss: 0.48360. 7.0 [s] per epoch\n",
      "Epoch: 9, loss: 0.48271. 7.0 [s] per epoch\n",
      "Epoch: 10, loss: 0.47901. 7.1 [s] per epoch\n",
      "Epoch: 11, loss: 0.47780. 7.2 [s] per epoch\n",
      "Epoch: 12, loss: 0.47720. 7.2 [s] per epoch\n",
      "Epoch: 13, loss: 0.47599. 7.1 [s] per epoch\n",
      "Epoch: 14, loss: 0.47757. 7.1 [s] per epoch\n",
      "Epoch: 15, loss: 0.47687. 7.2 [s] per epoch\n",
      "Epoch: 16, loss: 0.47596. 7.1 [s] per epoch\n",
      "Epoch: 17, loss: 0.47620. 7.0 [s] per epoch\n",
      "Epoch: 18, loss: 0.47589. 7.0 [s] per epoch\n",
      "Epoch: 19, loss: 0.47587. 7.2 [s] per epoch\n",
      "Done!\n",
      "Training...\n",
      "Epoch: 0, loss: 0.68667. 8.2 [s] per epoch\n",
      "Epoch: 1, loss: 0.66029. 8.5 [s] per epoch\n",
      "Epoch: 2, loss: 0.63627. 8.5 [s] per epoch\n",
      "Epoch: 3, loss: 0.64076. 8.5 [s] per epoch\n",
      "Epoch: 4, loss: 0.55211. 8.5 [s] per epoch\n",
      "Epoch: 5, loss: 0.53745. 8.5 [s] per epoch\n",
      "Epoch: 6, loss: 0.52341. 8.3 [s] per epoch\n",
      "Epoch: 7, loss: 0.50543. 8.5 [s] per epoch\n",
      "Epoch: 8, loss: 0.50136. 8.4 [s] per epoch\n",
      "Epoch: 9, loss: 0.51641. 8.8 [s] per epoch\n",
      "Epoch: 10, loss: 0.90186. 8.6 [s] per epoch\n",
      "Epoch: 11, loss: 0.86294. 8.6 [s] per epoch\n",
      "Epoch: 12, loss: 0.54793. 8.5 [s] per epoch\n",
      "Epoch: 13, loss: 0.52163. 8.4 [s] per epoch\n",
      "Epoch: 14, loss: 0.51095. 8.4 [s] per epoch\n",
      "Epoch: 15, loss: 0.54089. 8.3 [s] per epoch\n",
      "Epoch: 16, loss: 0.50770. 8.5 [s] per epoch\n",
      "Epoch: 17, loss: 0.52186. 8.4 [s] per epoch\n",
      "Epoch: 18, loss: 0.49915. 8.4 [s] per epoch\n",
      "Epoch: 19, loss: 0.52192. 8.4 [s] per epoch\n",
      "Done!\n"
     ]
    }
   ],
   "source": [
    "optimizer = torch.optim.Adam\n",
    "loss_func = torch.nn.CrossEntropyLoss(weight=torch.tensor([0.05, 1.]).to(device))\n",
    "\n",
    "net_simple.fit(Xq, Xa, t, batch_size, epochs, loss_func, optimizer, device)\n",
    "net_att.fit(Xq, Xa, t, batch_size, epochs, loss_func, optimizer, device)"
   ]
  },
  {
   "cell_type": "code",
   "execution_count": 4,
   "metadata": {},
   "outputs": [],
   "source": [
    "# torch.save(net_simple, 'net_simple.torch')\n",
    "# torch.save(net_att, 'net_att.torch')\n",
    "\n",
    "net_simple = torch.load('net_simple.torch')\n",
    "net_att = torch.load('net_att.torch')"
   ]
  },
  {
   "cell_type": "code",
   "execution_count": 5,
   "metadata": {},
   "outputs": [],
   "source": [
    "Xq_test = np.array(df_test.Question_encoded.values.tolist())\n",
    "Xa_test = np.array(df_test.Sentence_encoded.values.tolist())\n",
    "t_test = np.array(df_test.Label.values.tolist())\n",
    "\n",
    "Xq_test = torch.from_numpy(Xq_test).cuda()\n",
    "Xa_test = torch.from_numpy(Xa_test).cuda()\n",
    "t_test = torch.from_numpy(t_test).cuda()"
   ]
  },
  {
   "cell_type": "code",
   "execution_count": 6,
   "metadata": {},
   "outputs": [
    {
     "name": "stderr",
     "output_type": "stream",
     "text": [
      "/home/jupyter/notebooks/Ivan Pastuhov/nn4nqa/custom_model/model.py:159: UserWarning: RNN module weights are not part of single contiguous chunk of memory. This means they need to be compacted at every call, possibly greatly increasing memory usage. To compact weights again call flatten_parameters().\n",
      "  outputs, _ = self.rnn(embedded, hidden)\n"
     ]
    }
   ],
   "source": [
    "net_simple_pred = net_simple(Xq_test, Xa_test)"
   ]
  },
  {
   "cell_type": "code",
   "execution_count": 7,
   "metadata": {},
   "outputs": [],
   "source": [
    "net_att_pred = net_att.to('cpu')(Xq_test.to('cpu'), Xa_test.to('cpu'))"
   ]
  },
  {
   "cell_type": "code",
   "execution_count": 8,
   "metadata": {},
   "outputs": [
    {
     "data": {
      "text/plain": [
       "array([[1.00000000e+00, 4.25506386e-09],\n",
       "       [1.00000000e+00, 4.21116169e-26],\n",
       "       [1.00000000e+00, 2.58354921e-10],\n",
       "       ...,\n",
       "       [9.99999642e-01, 3.82601002e-07],\n",
       "       [6.65212393e-01, 3.34787548e-01],\n",
       "       [9.99999642e-01, 3.31834002e-07]])"
      ]
     },
     "execution_count": 8,
     "metadata": {},
     "output_type": "execute_result"
    }
   ],
   "source": [
    "y_pred_simple = np.array(net_simple_pred.tolist())\n",
    "y_pred_simple"
   ]
  },
  {
   "cell_type": "code",
   "execution_count": 9,
   "metadata": {},
   "outputs": [
    {
     "data": {
      "text/plain": [
       "array([[9.93438601e-01, 6.56140177e-03],\n",
       "       [1.00000000e+00, 1.14907758e-12],\n",
       "       [9.99993682e-01, 6.29637225e-06],\n",
       "       ...,\n",
       "       [9.70847189e-01, 2.91528013e-02],\n",
       "       [5.81370778e-02, 9.41862941e-01],\n",
       "       [9.99252260e-01, 7.47760700e-04]])"
      ]
     },
     "execution_count": 9,
     "metadata": {},
     "output_type": "execute_result"
    }
   ],
   "source": [
    "y_pred_att = np.array(net_att_pred.tolist())\n",
    "y_pred_att"
   ]
  },
  {
   "cell_type": "code",
   "execution_count": 10,
   "metadata": {},
   "outputs": [],
   "source": [
    "from sklearn.metrics import roc_auc_score"
   ]
  },
  {
   "cell_type": "code",
   "execution_count": 11,
   "metadata": {},
   "outputs": [
    {
     "data": {
      "text/plain": [
       "0.7151202749140892"
      ]
     },
     "execution_count": 11,
     "metadata": {},
     "output_type": "execute_result"
    }
   ],
   "source": [
    "roc_auc_score(t_test.tolist(), np.array(y_pred_simple.tolist()).T[1])"
   ]
  },
  {
   "cell_type": "code",
   "execution_count": 12,
   "metadata": {},
   "outputs": [
    {
     "data": {
      "text/plain": [
       "0.6678326917688008"
      ]
     },
     "execution_count": 12,
     "metadata": {},
     "output_type": "execute_result"
    }
   ],
   "source": [
    "roc_auc_score(t_test.tolist(), np.array(y_pred_att.tolist()).T[1])"
   ]
  },
  {
   "cell_type": "code",
   "execution_count": 22,
   "metadata": {},
   "outputs": [
    {
     "data": {
      "text/plain": [
       "torch.Size([6116, 22, 22])"
      ]
     },
     "execution_count": 22,
     "metadata": {},
     "output_type": "execute_result"
    }
   ],
   "source": [
    "net_att.l_probas[0].size()"
   ]
  },
  {
   "cell_type": "code",
   "execution_count": 25,
   "metadata": {},
   "outputs": [
    {
     "data": {
      "text/plain": [
       "'how african americans were immigrated to the us'"
      ]
     },
     "execution_count": 25,
     "metadata": {},
     "output_type": "execute_result"
    }
   ],
   "source": [
    "df_test.loc[0, 'Question']"
   ]
  },
  {
   "cell_type": "code",
   "execution_count": 27,
   "metadata": {},
   "outputs": [
    {
     "data": {
      "text/plain": [
       "'african immigration to the united states refers to immigrants to the united states who are or were nationals of africa'"
      ]
     },
     "execution_count": 27,
     "metadata": {},
     "output_type": "execute_result"
    }
   ],
   "source": [
    "df_test.loc[0, 'Sentence']"
   ]
  },
  {
   "cell_type": "code",
   "execution_count": 44,
   "metadata": {},
   "outputs": [
    {
     "data": {
      "text/plain": [
       "tensor([ 3.0679,  2.9617,  3.4056,  2.9240,  2.9331,  3.0593,  2.9527,\n",
       "         2.9123,  2.9845,  2.9845,  2.9845,  2.9845,  2.9845,  2.9845,\n",
       "         2.9845,  2.9845,  2.9845,  2.9845,  2.9845,  2.9845,  2.9845,\n",
       "         2.9845])"
      ]
     },
     "execution_count": 44,
     "metadata": {},
     "output_type": "execute_result"
    }
   ],
   "source": [
    "sum([sum(net_att.l_probas[i][0]) for i in range(len(net_att.l_probas))])"
   ]
  },
  {
   "cell_type": "code",
   "execution_count": 46,
   "metadata": {},
   "outputs": [],
   "source": [
    "string = df_test.loc[0, 'Question']\n",
    "score = sum([sum(net_att.l_probas[i][0]) for i in range(len(net_att.l_probas))]).tolist()"
   ]
  },
  {
   "cell_type": "code",
   "execution_count": 51,
   "metadata": {},
   "outputs": [
    {
     "data": {
      "text/html": [
       "<div>\n",
       "<style scoped>\n",
       "    .dataframe tbody tr th:only-of-type {\n",
       "        vertical-align: middle;\n",
       "    }\n",
       "\n",
       "    .dataframe tbody tr th {\n",
       "        vertical-align: top;\n",
       "    }\n",
       "\n",
       "    .dataframe thead th {\n",
       "        text-align: right;\n",
       "    }\n",
       "</style>\n",
       "<table border=\"1\" class=\"dataframe\">\n",
       "  <thead>\n",
       "    <tr style=\"text-align: right;\">\n",
       "      <th></th>\n",
       "      <th>0</th>\n",
       "    </tr>\n",
       "  </thead>\n",
       "  <tbody>\n",
       "    <tr>\n",
       "      <th>us</th>\n",
       "      <td>2.912348</td>\n",
       "    </tr>\n",
       "    <tr>\n",
       "      <th>were</th>\n",
       "      <td>2.924007</td>\n",
       "    </tr>\n",
       "    <tr>\n",
       "      <th>immigrated</th>\n",
       "      <td>2.933096</td>\n",
       "    </tr>\n",
       "    <tr>\n",
       "      <th>the</th>\n",
       "      <td>2.952719</td>\n",
       "    </tr>\n",
       "    <tr>\n",
       "      <th>african</th>\n",
       "      <td>2.961709</td>\n",
       "    </tr>\n",
       "    <tr>\n",
       "      <th>to</th>\n",
       "      <td>3.059257</td>\n",
       "    </tr>\n",
       "    <tr>\n",
       "      <th>how</th>\n",
       "      <td>3.067880</td>\n",
       "    </tr>\n",
       "    <tr>\n",
       "      <th>americans</th>\n",
       "      <td>3.405570</td>\n",
       "    </tr>\n",
       "  </tbody>\n",
       "</table>\n",
       "</div>"
      ],
      "text/plain": [
       "                   0\n",
       "us          2.912348\n",
       "were        2.924007\n",
       "immigrated  2.933096\n",
       "the         2.952719\n",
       "african     2.961709\n",
       "to          3.059257\n",
       "how         3.067880\n",
       "americans   3.405570"
      ]
     },
     "execution_count": 51,
     "metadata": {},
     "output_type": "execute_result"
    }
   ],
   "source": [
    "df = pd.DataFrame.from_dict(dict(zip(string.split(), score)), orient='index').sort_values(0)\n",
    "df"
   ]
  },
  {
   "cell_type": "code",
   "execution_count": 70,
   "metadata": {},
   "outputs": [],
   "source": [
    "import seaborn as sns\n",
    "from matplotlib import pyplot as plt"
   ]
  },
  {
   "cell_type": "code",
   "execution_count": 95,
   "metadata": {},
   "outputs": [
    {
     "data": {
      "image/png": "[encoded data removed]",
      "text/plain": [
       "<matplotlib.figure.Figure at 0x7f223048eef0>"
      ]
     },
     "metadata": {},
     "output_type": "display_data"
    },
    {
     "data": {
      "image/png": "[encoded data removed]",
      "text/plain": [
       "<matplotlib.figure.Figure at 0x7f22300f6048>"
      ]
     },
     "metadata": {},
     "output_type": "display_data"
    },
    {
     "data": {
      "image/png": "[encoded data removed]",
      "text/plain": [
       "<matplotlib.figure.Figure at 0x7f2230464c50>"
      ]
     },
     "metadata": {},
     "output_type": "display_data"
    }
   ],
   "source": [
    "for i in range(3):\n",
    "    plt.figure()\n",
    "    a = net_att.l_probas[i][0].detach().numpy()\n",
    "    sns.heatmap(a[:8, :8], xticklabels=string.split(), yticklabels=string.split())\n",
    "    plt.plot()"
   ]
  },
  {
   "cell_type": "code",
   "execution_count": 89,
   "metadata": {},
   "outputs": [
    {
     "data": {
      "text/plain": [
       "array([0.02336603, 0.04821969, 0.3307864 , 0.0387376 , 0.01733561,\n",
       "       0.1285383 , 0.05693843, 0.02603848, 0.02357424, 0.02357424,\n",
       "       0.02357424, 0.02357424, 0.02357424, 0.02357424, 0.02357424,\n",
       "       0.02357424, 0.02357424, 0.02357424, 0.02357424, 0.02357424,\n",
       "       0.02357424, 0.02357424], dtype=float32)"
      ]
     },
     "execution_count": 89,
     "metadata": {},
     "output_type": "execute_result"
    }
   ],
   "source": [
    "net_att.l_probas[1][0].detach().numpy()[5]"
   ]
  },
  {
   "cell_type": "code",
   "execution_count": 92,
   "metadata": {},
   "outputs": [
    {
     "data": {
      "text/plain": [
       "7890818"
      ]
     },
     "execution_count": 92,
     "metadata": {},
     "output_type": "execute_result"
    }
   ],
   "source": [
    "sum(p.numel() for p in net_att.parameters())"
   ]
  },
  {
   "cell_type": "code",
   "execution_count": 93,
   "metadata": {},
   "outputs": [
    {
     "data": {
      "text/plain": [
       "7791810"
      ]
     },
     "execution_count": 93,
     "metadata": {},
     "output_type": "execute_result"
    }
   ],
   "source": [
    "sum(p.numel() for p in net_simple.parameters())"
   ]
  },
  {
   "cell_type": "code",
   "execution_count": 94,
   "metadata": {},
   "outputs": [
    {
     "data": {
      "text/plain": [
       "(20347, 9)"
      ]
     },
     "execution_count": 94,
     "metadata": {},
     "output_type": "execute_result"
    }
   ],
   "source": [
    "df_train.shape"
   ]
  },
  {
   "cell_type": "code",
   "execution_count": 102,
   "metadata": {},
   "outputs": [
    {
     "data": {
      "text/plain": [
       "4572.0"
      ]
     },
     "execution_count": 102,
     "metadata": {},
     "output_type": "execute_result"
    }
   ],
   "source": [
    "250*60*4 * 0.1524 / 2."
   ]
  },
  {
   "cell_type": "code",
   "execution_count": 104,
   "metadata": {},
   "outputs": [
    {
     "data": {
      "text/plain": [
       "1353.3464566929133"
      ]
     },
     "execution_count": 104,
     "metadata": {},
     "output_type": "execute_result"
    }
   ],
   "source": [
    "99000/0.1524 * 15 / 2 / 60 / 60"
   ]
  },
  {
   "cell_type": "code",
   "execution_count": null,
   "metadata": {},
   "outputs": [],
   "source": []
  }
 ],
 "metadata": {
  "kernelspec": {
   "display_name": "Python 3.6 Ivan Pastuhov",
   "language": "python",
   "name": "pastuhov"
  },
  "language_info": {
   "codemirror_mode": {
    "name": "ipython",
    "version": 3
   },
   "file_extension": ".py",
   "mimetype": "text/x-python",
   "name": "python",
   "nbconvert_exporter": "python",
   "pygments_lexer": "ipython3",
   "version": "3.6.6"
  }
 },
 "nbformat": 4,
 "nbformat_minor": 2
}
