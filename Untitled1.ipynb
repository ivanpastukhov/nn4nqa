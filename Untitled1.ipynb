{
 "cells": [
  {
   "cell_type": "code",
   "execution_count": 42,
   "metadata": {},
   "outputs": [
    {
     "name": "stdout",
     "output_type": "stream",
     "text": [
      "Device:  cuda\n"
     ]
    }
   ],
   "source": [
    "import pandas as pd\n",
    "import torch\n",
    "import numpy as np\n",
    "import os\n",
    "import pickle\n",
    "import matplotlib.pyplot as plt\n",
    "from custom_model.model import SimpleNet, SAttendedSimpleNet, SAttendedNet\n",
    "import seaborn as sns\n",
    "\n",
    "\n",
    "USE_CUDA = torch.cuda.is_available()\n",
    "device = torch.device(\"cuda\" if USE_CUDA else \"cpu\")\n",
    "print('Device: ', device)\n",
    "\n",
    "def read_pickle(fname):\n",
    "    with open(fname, 'rb') as fin:\n",
    "        return pickle.load(fin)\n",
    "\n",
    "df_train = pd.read_pickle('./data/processed/wikiqa_df_train.pickle')\n",
    "df_test = pd.read_pickle('./data/processed/wikiqa_df_test.pickle')\n",
    "df_test, df_val = np.split(df_test.sample(frac=1., random_state=42), 2)\n",
    "emb_weights = np.load('./data/processed/index2vector.npy')\n",
    "\n",
    "vocab_size = emb_weights.shape[0]\n",
    "embed_dim = emb_weights.shape[1]"
   ]
  },
  {
   "cell_type": "code",
   "execution_count": 4,
   "metadata": {},
   "outputs": [
    {
     "name": "stdout",
     "output_type": "stream",
     "text": [
      "Train shape: (20347, 9) \n",
      "Test shape: (3058, 9) \n",
      "Val shape (3058, 9): \n"
     ]
    }
   ],
   "source": [
    "# df_train = df_train.iloc[:100]\n",
    "\n",
    "print('Train shape: {} \\n\\\n",
    "Test shape: {} \\n\\\n",
    "Val shape {}: '.format(df_train.shape, df_test.shape, df_val.shape))\n",
    "\n",
    "# net_simple = SimpleNet(voc['voc_len'], 16, 16)\n",
    "# net_att = SAttendedSimpleNet(voc['voc_len'], 128, 128, 64, 3)\n",
    "net_att = SAttendedNet(vocab_size, embed_dim, 64, 32, 1, 22, 287, emb_weights)\n",
    "\n",
    "Xq = np.array(df_train.Question_encoded.values.tolist())\n",
    "Xa = np.array(df_train.Sentence_encoded.values.tolist())\n",
    "t = np.array(df_train.Label.values.tolist())\n",
    "\n",
    "Xq = torch.from_numpy(Xq)\n",
    "Xa = torch.from_numpy(Xa)\n",
    "t = torch.from_numpy(t)\n",
    "\n",
    "batch_size = 256\n",
    "epochs = 10"
   ]
  },
  {
   "cell_type": "code",
   "execution_count": 5,
   "metadata": {},
   "outputs": [],
   "source": [
    "Xq_val = np.array(df_val.Question_encoded.values.tolist())\n",
    "Xa_val = np.array(df_val.Sentence_encoded.values.tolist())\n",
    "t_val = np.array(df_val.Label.values.tolist())\n",
    "val_data = [(torch.from_numpy(Xq_val), torch.from_numpy(Xa_val)), torch.from_numpy(t_val)]"
   ]
  },
  {
   "cell_type": "code",
   "execution_count": 6,
   "metadata": {},
   "outputs": [
    {
     "name": "stderr",
     "output_type": "stream",
     "text": [
      "/home/jupyter/notebooks/Ivan Pastuhov/nn4nqa/custom_model/model.py:242: UserWarning: torch.nn.utils.clip_grad_norm is now deprecated in favor of torch.nn.utils.clip_grad_norm_.\n",
      "  _ = nn.utils.clip_grad_norm(self.parameters(), clip)\n"
     ]
    },
    {
     "name": "stdout",
     "output_type": "stream",
     "text": [
      "Training...\n",
      "Epoch: 0, loss: 0.69422. 6.7 [s] per epoch. Val loss: 0.69279\n",
      "Epoch: 1, loss: 0.69342. 6.1 [s] per epoch. Val loss: 0.69275\n",
      "Epoch: 2, loss: 0.68891. 6.0 [s] per epoch. Val loss: 0.69234\n",
      "Epoch: 3, loss: 0.65351. 6.1 [s] per epoch. Val loss: 0.68952\n",
      "Epoch: 4, loss: 0.61208. 5.0 [s] per epoch. Val loss: 0.68871\n",
      "Epoch: 5, loss: 0.59274. 4.8 [s] per epoch. Val loss: 0.69087\n",
      "Epoch: 6, loss: 0.57937. 5.9 [s] per epoch. Val loss: 0.69464\n",
      "Epoch: 7, loss: 0.56502. 6.0 [s] per epoch. Val loss: 0.70009\n",
      "Epoch: 8, loss: 0.55201. 6.0 [s] per epoch. Val loss: 0.70608\n",
      "Epoch: 9, loss: 0.53908. 6.1 [s] per epoch. Val loss: 0.71291\n",
      "Done!\n"
     ]
    }
   ],
   "source": [
    "optimizer = torch.optim.Adam\n",
    "loss_func = torch.nn.CrossEntropyLoss(weight=torch.tensor([0.05, 1.]).to(device))\n",
    "\n",
    "# net_simple.fit(Xq, Xa, t, batch_size, epochs, loss_func, optimizer, device, 50., val_data)\n",
    "net_att.fit(Xq, Xa, t, batch_size, epochs, loss_func, optimizer, device, 90., val_data)"
   ]
  },
  {
   "cell_type": "code",
   "execution_count": 7,
   "metadata": {},
   "outputs": [
    {
     "data": {
      "image/png": "[encoded data removed]",
      "text/plain": [
       "<matplotlib.figure.Figure at 0x7fae140fd710>"
      ]
     },
     "metadata": {},
     "output_type": "display_data"
    }
   ],
   "source": [
    "plt.plot(range(len(net_att.losses)), net_att.losses)\n",
    "plt.plot(range(len(net_att.val_losses)), net_att.val_losses, c='r')\n",
    "plt.show()"
   ]
  },
  {
   "cell_type": "code",
   "execution_count": 8,
   "metadata": {},
   "outputs": [
    {
     "data": {
      "text/plain": [
       "SAttendedNet(\n",
       "  (encoder_l): Encoder(\n",
       "    (embedding): Embedding(400002, 50)\n",
       "    (rnn): LSTM(50, 64)\n",
       "  )\n",
       "  (encoder_r): Encoder(\n",
       "    (embedding): Embedding(400002, 50)\n",
       "    (rnn): LSTM(50, 64)\n",
       "  )\n",
       "  (hidden): Linear(in_features=128, out_features=64, bias=True)\n",
       "  (answer): Linear(in_features=64, out_features=2, bias=True)\n",
       "  (l_attention): MultiheadAttention(\n",
       "    (linear_query): ModuleList(\n",
       "      (0): Linear(in_features=64, out_features=32, bias=True)\n",
       "    )\n",
       "    (linear_key): ModuleList(\n",
       "      (0): Linear(in_features=64, out_features=32, bias=True)\n",
       "    )\n",
       "    (linear_value): ModuleList(\n",
       "      (0): Linear(in_features=64, out_features=32, bias=True)\n",
       "    )\n",
       "    (output_linear): Linear(in_features=32, out_features=64, bias=True)\n",
       "  )\n",
       "  (r_attention): MultiheadAttention(\n",
       "    (linear_query): ModuleList(\n",
       "      (0): Linear(in_features=64, out_features=32, bias=True)\n",
       "    )\n",
       "    (linear_key): ModuleList(\n",
       "      (0): Linear(in_features=64, out_features=32, bias=True)\n",
       "    )\n",
       "    (linear_value): ModuleList(\n",
       "      (0): Linear(in_features=64, out_features=32, bias=True)\n",
       "    )\n",
       "    (output_linear): Linear(in_features=32, out_features=64, bias=True)\n",
       "  )\n",
       "  (l_flatten): AttentionFlattener(\n",
       "    (linear): Linear(in_features=22, out_features=1, bias=True)\n",
       "    (softmax): Softmax()\n",
       "  )\n",
       "  (r_flatten): AttentionFlattener(\n",
       "    (linear): Linear(in_features=287, out_features=1, bias=True)\n",
       "    (softmax): Softmax()\n",
       "  )\n",
       "  (loss_function): CrossEntropyLoss()\n",
       ")"
      ]
     },
     "execution_count": 8,
     "metadata": {},
     "output_type": "execute_result"
    }
   ],
   "source": [
    "net_att.eval()"
   ]
  },
  {
   "cell_type": "code",
   "execution_count": 26,
   "metadata": {},
   "outputs": [],
   "source": [
    "xq_1 = np.array(df_train.Question_encoded.values[:5].tolist())\n",
    "xa_1 = np.array(df_train.Sentence_encoded.values[:5].tolist())\n",
    "xq_1 = torch.from_numpy(xq_1)\n",
    "xa_1 = torch.from_numpy(xa_1)\n",
    "\n",
    "pr = net_att.to('cpu')(xq_1, xa_1)"
   ]
  },
  {
   "cell_type": "code",
   "execution_count": 27,
   "metadata": {},
   "outputs": [
    {
     "data": {
      "text/plain": [
       "array(['how are glacier caves formed', 'how are glacier caves formed',\n",
       "       'how are glacier caves formed', 'how are glacier caves formed',\n",
       "       'how are glacier caves formed'], dtype=object)"
      ]
     },
     "execution_count": 27,
     "metadata": {},
     "output_type": "execute_result"
    }
   ],
   "source": [
    "df_train.Question.values[:5]"
   ]
  },
  {
   "cell_type": "code",
   "execution_count": 28,
   "metadata": {},
   "outputs": [
    {
     "data": {
      "text/plain": [
       "array(['a partly submerged glacier cave on perito moreno glacier',\n",
       "       'the ice facade is approximately m high',\n",
       "       'ice formations in the titlis glacier cave',\n",
       "       'a glacier cave is a cave formed within the ice of a glacier',\n",
       "       'glacier caves are often called ice caves but this term is properly used to describe bedrock caves that contain year round ice'],\n",
       "      dtype=object)"
      ]
     },
     "execution_count": 28,
     "metadata": {},
     "output_type": "execute_result"
    }
   ],
   "source": [
    "df_train.Sentence.values[:5]"
   ]
  },
  {
   "cell_type": "code",
   "execution_count": 57,
   "metadata": {},
   "outputs": [],
   "source": [
    "def score_sent(sent, scores):\n",
    "    sent = sent.split()\n",
    "    scores = scores.detach().numpy().flatten()\n",
    "    return pd.Series(index=sent, data=scores[:len(sent)])"
   ]
  },
  {
   "cell_type": "code",
   "execution_count": 58,
   "metadata": {},
   "outputs": [],
   "source": [
    "scoring_q = []\n",
    "for sent, score in zip(df_train.Question.values[:5], net_att.l_scores[:5]):\n",
    "    scoring_q.append(score_sent(sent, score))\n",
    "    \n",
    "scoring_a = []\n",
    "for sent, score in zip(df_train.Sentence.values[:5], net_att.r_scores[:5]):\n",
    "    scoring_a.append(score_sent(sent, score))"
   ]
  },
  {
   "cell_type": "code",
   "execution_count": 64,
   "metadata": {},
   "outputs": [
    {
     "data": {
      "text/plain": [
       "<matplotlib.axes._subplots.AxesSubplot at 0x7fad1d7ed3c8>"
      ]
     },
     "execution_count": 64,
     "metadata": {},
     "output_type": "execute_result"
    },
    {
     "data": {
      "image/png": "[encoded data removed]",
      "text/plain": [
       "<matplotlib.figure.Figure at 0x7fad1df20160>"
      ]
     },
     "metadata": {},
     "output_type": "display_data"
    }
   ],
   "source": [
    "scoring_q[0].plot(kind='barh')"
   ]
  },
  {
   "cell_type": "code",
   "execution_count": 75,
   "metadata": {},
   "outputs": [
    {
     "name": "stdout",
     "output_type": "stream",
     "text": [
      "cave ice of glacier a the a formed within a glacier is cave\n"
     ]
    },
    {
     "data": {
      "text/plain": [
       "<matplotlib.axes._subplots.AxesSubplot at 0x7fad9ba61828>"
      ]
     },
     "execution_count": 75,
     "metadata": {},
     "output_type": "execute_result"
    },
    {
     "data": {
      "image/png": "[encoded data removed]",
      "text/plain": [
       "<matplotlib.figure.Figure at 0x7fad9bd0a2e8>"
      ]
     },
     "metadata": {},
     "output_type": "display_data"
    }
   ],
   "source": [
    "print(' '.join(scoring_a[3].index))\n",
    "scoring_a[3].plot(kind='barh')"
   ]
  },
  {
   "cell_type": "code",
   "execution_count": 78,
   "metadata": {},
   "outputs": [
    {
     "data": {
      "text/plain": [
       "'a glacier cave is a cave formed within the ice of a glacier'"
      ]
     },
     "execution_count": 78,
     "metadata": {},
     "output_type": "execute_result"
    }
   ],
   "source": [
    "df_train.loc[3, 'Sentence']"
   ]
  },
  {
   "cell_type": "code",
   "execution_count": 65,
   "metadata": {},
   "outputs": [
    {
     "data": {
      "image/png": "[encoded data removed]",
      "text/plain": [
       "<matplotlib.figure.Figure at 0x7fad1d974d30>"
      ]
     },
     "metadata": {},
     "output_type": "display_data"
    }
   ],
   "source": [
    "for i in scoring_a:\n",
    "    i.plot(kind='barh')"
   ]
  },
  {
   "cell_type": "code",
   "execution_count": 47,
   "metadata": {},
   "outputs": [
    {
     "data": {
      "text/plain": [
       "<Container object of 13 artists>"
      ]
     },
     "execution_count": 47,
     "metadata": {},
     "output_type": "execute_result"
    },
    {
     "data": {
      "image/png": "[encoded data removed]",
      "text/plain": [
       "<matplotlib.figure.Figure at 0x7fad1d44a9b0>"
      ]
     },
     "metadata": {},
     "output_type": "display_data"
    }
   ],
   "source": [
    "plt.barh(scoring_a[3][0], scoring_a[0][1][:len(scoring_a[3][0])])"
   ]
  },
  {
   "cell_type": "code",
   "execution_count": null,
   "metadata": {},
   "outputs": [],
   "source": [
    "plt.barh(scoring_a[3][0], scoring_q[0][0][:5])"
   ]
  },
  {
   "cell_type": "code",
   "execution_count": null,
   "metadata": {},
   "outputs": [],
   "source": [
    "\n",
    "plt.figure(figsize=(17,8))\n",
    "plt.subplot(1,2,1)\n",
    "plt.plot(range(len(net_simple.losses)), net_simple.losses)\n",
    "plt.plot(range(len(net_simple.val_losses)), net_simple.val_losses, c='r')\n",
    "plt.subplot(1,2,2)\n",
    "plt.plot(range(len(net_att.losses)), net_att.losses)\n",
    "plt.plot(range(len(net_att.val_losses)), net_att.val_losses, c='r')\n",
    "plt.show()"
   ]
  },
  {
   "cell_type": "markdown",
   "metadata": {},
   "source": [
    "## Softmax на линейное преобразование от матрицы аттеншна"
   ]
  },
  {
   "cell_type": "code",
   "execution_count": null,
   "metadata": {},
   "outputs": [],
   "source": [
    "a = torch.randn((7,6))\n",
    "sm = torch.nn.Softmax(-1)\n",
    "a = sm(a)\n",
    "a"
   ]
  },
  {
   "cell_type": "code",
   "execution_count": null,
   "metadata": {},
   "outputs": [],
   "source": [
    "vm = torch.nn.Linear(6, 1)\n",
    "sm_2 = torch.nn.Softmax(0)\n",
    "sm_2(vm(a))"
   ]
  },
  {
   "cell_type": "code",
   "execution_count": null,
   "metadata": {},
   "outputs": [],
   "source": [
    "t = np.load('./data/processed/index2vector.npy')"
   ]
  },
  {
   "cell_type": "code",
   "execution_count": null,
   "metadata": {},
   "outputs": [],
   "source": [
    "type(t)"
   ]
  },
  {
   "cell_type": "code",
   "execution_count": null,
   "metadata": {},
   "outputs": [],
   "source": [
    "isinstance(t, np.ndarray)"
   ]
  },
  {
   "cell_type": "code",
   "execution_count": null,
   "metadata": {},
   "outputs": [],
   "source": [
    "t.shape"
   ]
  },
  {
   "cell_type": "code",
   "execution_count": null,
   "metadata": {},
   "outputs": [],
   "source": []
  }
 ],
 "metadata": {
  "kernelspec": {
   "display_name": "Python 3.6 Ivan Pastuhov",
   "language": "python",
   "name": "pastuhov"
  },
  "language_info": {
   "codemirror_mode": {
    "name": "ipython",
    "version": 3
   },
   "file_extension": ".py",
   "mimetype": "text/x-python",
   "name": "python",
   "nbconvert_exporter": "python",
   "pygments_lexer": "ipython3",
   "version": "3.6.6"
  }
 },
 "nbformat": 4,
 "nbformat_minor": 2
}
