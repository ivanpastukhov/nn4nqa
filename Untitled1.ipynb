{
 "cells": [
  {
   "cell_type": "code",
   "execution_count": 1,
   "metadata": {},
   "outputs": [
    {
     "name": "stdout",
     "output_type": "stream",
     "text": [
      "Device:  cuda\n"
     ]
    }
   ],
   "source": [
    "import pandas as pd\n",
    "import torch\n",
    "import numpy as np\n",
    "import os\n",
    "import pickle\n",
    "from custom_model.model import SimpleNet, SAttendedSimpleNet\n",
    "\n",
    "USE_CUDA = torch.cuda.is_available()\n",
    "device = torch.device(\"cuda\" if USE_CUDA else \"cpu\")\n",
    "print('Device: ', device)\n",
    "\n",
    "def read_pickle(fname):\n",
    "    with open(fname, 'rb') as fin:\n",
    "        return pickle.load(fin)\n",
    "\n",
    "df_train = pd.read_pickle('./data/processed/wikiqa_df_train.pickle')\n",
    "df_test = pd.read_pickle('./data/processed/wikiqa_df_test.pickle')\n",
    "voc = read_pickle('./data/processed/vocabulary.pickle')"
   ]
  },
  {
   "cell_type": "code",
   "execution_count": 2,
   "metadata": {},
   "outputs": [
    {
     "name": "stdout",
     "output_type": "stream",
     "text": [
      "Train shape: (20347, 9) \n",
      "Test shape: (6116, 9)\n"
     ]
    }
   ],
   "source": [
    "# df_train = df_train.iloc[:100]\n",
    "\n",
    "print('Train shape: {} \\n\\\n",
    "Test shape: {}'.format(df_train.shape, df_test.shape))\n",
    "\n",
    "net_simple = SimpleNet(voc['voc_len'], 128, 128)\n",
    "net_att = SAttendedSimpleNet(voc['voc_len'], 128, 128, 64, 3)\n",
    "\n",
    "Xq = np.array(df_train.Question_encoded.values.tolist())\n",
    "Xa = np.array(df_train.Sentence_encoded.values.tolist())\n",
    "t = np.array(df_train.Label.values.tolist())\n",
    "\n",
    "Xq = torch.from_numpy(Xq)\n",
    "Xa = torch.from_numpy(Xa)\n",
    "t = torch.from_numpy(t)\n",
    "\n",
    "batch_size = 50\n",
    "epochs = 20"
   ]
  },
  {
   "cell_type": "code",
   "execution_count": 3,
   "metadata": {},
   "outputs": [
    {
     "name": "stdout",
     "output_type": "stream",
     "text": [
      "Training...\n",
      "Epoch: 0, loss: 0.68699. 8.1 [s] per epoch\n",
      "Epoch: 1, loss: 0.69315. 7.7 [s] per epoch\n",
      "Epoch: 2, loss: 0.65154. 7.7 [s] per epoch\n",
      "Epoch: 3, loss: 0.63682. 7.9 [s] per epoch\n",
      "Epoch: 4, loss: 0.50404. 7.8 [s] per epoch\n",
      "Epoch: 5, loss: 0.47998. 8.0 [s] per epoch\n",
      "Epoch: 6, loss: 0.47913. 8.0 [s] per epoch\n",
      "Epoch: 7, loss: 0.47764. 8.0 [s] per epoch\n",
      "Epoch: 8, loss: 0.47691. 7.9 [s] per epoch\n",
      "Epoch: 9, loss: 0.47627. 8.0 [s] per epoch\n",
      "Epoch: 10, loss: 0.47615. 8.1 [s] per epoch\n",
      "Epoch: 11, loss: 0.47601. 8.0 [s] per epoch\n",
      "Epoch: 12, loss: 0.47627. 8.1 [s] per epoch\n",
      "Epoch: 13, loss: 0.47608. 8.1 [s] per epoch\n",
      "Epoch: 14, loss: 0.47592. 8.0 [s] per epoch\n",
      "Epoch: 15, loss: 0.47594. 8.0 [s] per epoch\n",
      "Epoch: 16, loss: 0.47599. 8.1 [s] per epoch\n",
      "Epoch: 17, loss: 0.48299. 8.2 [s] per epoch\n",
      "Epoch: 18, loss: 0.47598. 8.0 [s] per epoch\n",
      "Epoch: 19, loss: 0.47587. 8.1 [s] per epoch\n",
      "Done!\n",
      "Training...\n",
      "Epoch: 0, loss: 0.63963. 9.8 [s] per epoch\n",
      "Epoch: 1, loss: 0.65430. 9.7 [s] per epoch\n",
      "Epoch: 2, loss: 0.61131. 9.7 [s] per epoch\n",
      "Epoch: 3, loss: 0.57366. 9.6 [s] per epoch\n",
      "Epoch: 4, loss: 0.50779. 9.6 [s] per epoch\n",
      "Epoch: 5, loss: 0.36777. 9.7 [s] per epoch\n",
      "Epoch: 6, loss: 0.35897. 9.6 [s] per epoch\n",
      "Epoch: 7, loss: 0.35321. 9.6 [s] per epoch\n",
      "Epoch: 8, loss: 0.32840. 9.6 [s] per epoch\n",
      "Epoch: 9, loss: 0.32472. 9.6 [s] per epoch\n",
      "Epoch: 10, loss: 0.32445. 9.8 [s] per epoch\n",
      "Epoch: 11, loss: 0.32480. 9.9 [s] per epoch\n",
      "Epoch: 12, loss: 0.32928. 9.9 [s] per epoch\n",
      "Epoch: 13, loss: 0.32288. 9.9 [s] per epoch\n",
      "Epoch: 14, loss: 0.34076. 9.9 [s] per epoch\n",
      "Epoch: 15, loss: 0.32240. 9.7 [s] per epoch\n",
      "Epoch: 16, loss: 0.32216. 9.8 [s] per epoch\n",
      "Epoch: 17, loss: 0.32164. 9.8 [s] per epoch\n",
      "Epoch: 18, loss: 0.32377. 9.8 [s] per epoch\n",
      "Epoch: 19, loss: 0.32145. 9.8 [s] per epoch\n",
      "Done!\n"
     ]
    }
   ],
   "source": [
    "optimizer = torch.optim.Adam\n",
    "loss_func = torch.nn.CrossEntropyLoss(weight=torch.tensor([0.05, 1.]).to(device))\n",
    "\n",
    "net_simple.fit(Xq, Xa, t, batch_size, epochs, loss_func, optimizer, device)\n",
    "net_att.fit(Xq, Xa, t, batch_size, epochs, loss_func, optimizer, device)"
   ]
  },
  {
   "cell_type": "code",
   "execution_count": 4,
   "metadata": {},
   "outputs": [],
   "source": [
    "# torch.save(net_simple, 'net_simple.torch')\n",
    "# torch.save(net_att, 'net_att.torch')\n",
    "\n",
    "net_simple = torch.load('net_simple.torch')\n",
    "net_att = torch.load('net_att.torch')"
   ]
  },
  {
   "cell_type": "code",
   "execution_count": 5,
   "metadata": {},
   "outputs": [],
   "source": [
    "Xq_test = np.array(df_test.Question_encoded.values.tolist())\n",
    "Xa_test = np.array(df_test.Sentence_encoded.values.tolist())\n",
    "t_test = np.array(df_test.Label.values.tolist())\n",
    "\n",
    "Xq_test = torch.from_numpy(Xq_test).cuda()\n",
    "Xa_test = torch.from_numpy(Xa_test).cuda()\n",
    "t_test = torch.from_numpy(t_test).cuda()"
   ]
  },
  {
   "cell_type": "code",
   "execution_count": 6,
   "metadata": {},
   "outputs": [
    {
     "name": "stderr",
     "output_type": "stream",
     "text": [
      "/home/jupyter/notebooks/Ivan Pastuhov/nn4nqa/custom_model/model.py:160: UserWarning: RNN module weights are not part of single contiguous chunk of memory. This means they need to be compacted at every call, possibly greatly increasing memory usage. To compact weights again call flatten_parameters().\n",
      "  outputs, _ = self.rnn(embedded, hidden)\n"
     ]
    }
   ],
   "source": [
    "net_simple_pred = net_simple(Xq_test, Xa_test)"
   ]
  },
  {
   "cell_type": "code",
   "execution_count": 7,
   "metadata": {},
   "outputs": [],
   "source": [
    "net_att_pred = net_att.to('cpu')(Xq_test.to('cpu'), Xa_test.to('cpu'))"
   ]
  },
  {
   "cell_type": "code",
   "execution_count": 8,
   "metadata": {},
   "outputs": [
    {
     "data": {
      "text/plain": [
       "array([[9.99948859e-01, 5.11530052e-05],\n",
       "       [1.00000000e+00, 5.56839116e-22],\n",
       "       [1.00000000e+00, 1.45072468e-14],\n",
       "       ...,\n",
       "       [9.98403370e-01, 1.59660506e-03],\n",
       "       [5.08761331e-02, 9.49123859e-01],\n",
       "       [9.99999881e-01, 7.56728156e-08]])"
      ]
     },
     "execution_count": 8,
     "metadata": {},
     "output_type": "execute_result"
    }
   ],
   "source": [
    "y_pred_simple = np.array(net_simple_pred.tolist())\n",
    "y_pred_simple"
   ]
  },
  {
   "cell_type": "code",
   "execution_count": 9,
   "metadata": {},
   "outputs": [
    {
     "data": {
      "text/plain": [
       "array([[9.99042273e-01, 9.57732322e-04],\n",
       "       [1.00000000e+00, 1.85950327e-27],\n",
       "       [1.00000000e+00, 2.60743284e-23],\n",
       "       ...,\n",
       "       [1.65409118e-01, 8.34590912e-01],\n",
       "       [3.52787197e-01, 6.47212803e-01],\n",
       "       [8.96201611e-01, 1.03798412e-01]])"
      ]
     },
     "execution_count": 9,
     "metadata": {},
     "output_type": "execute_result"
    }
   ],
   "source": [
    "y_pred_att = np.array(net_att_pred.tolist())\n",
    "y_pred_att"
   ]
  },
  {
   "cell_type": "code",
   "execution_count": 10,
   "metadata": {},
   "outputs": [],
   "source": [
    "from sklearn.metrics import roc_auc_score"
   ]
  },
  {
   "cell_type": "code",
   "execution_count": 11,
   "metadata": {},
   "outputs": [
    {
     "data": {
      "text/plain": [
       "0.6887444508355087"
      ]
     },
     "execution_count": 11,
     "metadata": {},
     "output_type": "execute_result"
    }
   ],
   "source": [
    "roc_auc_score(t_test.tolist(), np.array(y_pred_simple.tolist()).T[1])"
   ]
  },
  {
   "cell_type": "code",
   "execution_count": 12,
   "metadata": {},
   "outputs": [
    {
     "data": {
      "text/plain": [
       "0.6926100615017035"
      ]
     },
     "execution_count": 12,
     "metadata": {},
     "output_type": "execute_result"
    }
   ],
   "source": [
    "roc_auc_score(t_test.tolist(), np.array(y_pred_att.tolist()).T[1])"
   ]
  },
  {
   "cell_type": "code",
   "execution_count": null,
   "metadata": {},
   "outputs": [],
   "source": []
  }
 ],
 "metadata": {
  "kernelspec": {
   "display_name": "Python 3.6 Ivan Pastuhov",
   "language": "python",
   "name": "pastuhov"
  },
  "language_info": {
   "codemirror_mode": {
    "name": "ipython",
    "version": 3
   },
   "file_extension": ".py",
   "mimetype": "text/x-python",
   "name": "python",
   "nbconvert_exporter": "python",
   "pygments_lexer": "ipython3",
   "version": "3.6.6"
  }
 },
 "nbformat": 4,
 "nbformat_minor": 2
}
