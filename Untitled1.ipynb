{
 "cells": [
  {
   "cell_type": "code",
   "execution_count": 1,
   "metadata": {},
   "outputs": [
    {
     "name": "stdout",
     "output_type": "stream",
     "text": [
      "Device:  cuda\n"
     ]
    }
   ],
   "source": [
    "import pandas as pd\n",
    "import torch\n",
    "import numpy as np\n",
    "import os\n",
    "import pickle\n",
    "from custom_model.model import SimpleNet, SAttendedSimpleNet, SAttendedNet\n",
    "\n",
    "\n",
    "USE_CUDA = torch.cuda.is_available()\n",
    "device = torch.device(\"cuda\" if USE_CUDA else \"cpu\")\n",
    "print('Device: ', device)\n",
    "\n",
    "def read_pickle(fname):\n",
    "    with open(fname, 'rb') as fin:\n",
    "        return pickle.load(fin)\n",
    "\n",
    "df_train = pd.read_pickle('./data/processed/wikiqa_df_train.pickle')\n",
    "df_test = pd.read_pickle('./data/processed/wikiqa_df_test.pickle')\n",
    "df_test, df_val = np.split(df_test.sample(frac=1., random_state=42), 2)\n",
    "voc = read_pickle('./data/processed/vocabulary.pickle')"
   ]
  },
  {
   "cell_type": "code",
   "execution_count": 2,
   "metadata": {},
   "outputs": [
    {
     "name": "stdout",
     "output_type": "stream",
     "text": [
      "Train shape: (20347, 9) \n",
      "Test shape: (3058, 9) \n",
      "Val shape (3058, 9): \n"
     ]
    }
   ],
   "source": [
    "# df_train = df_train.iloc[:100]\n",
    "\n",
    "print('Train shape: {} \\n\\\n",
    "Test shape: {} \\n\\\n",
    "Val shape {}: '.format(df_train.shape, df_test.shape, df_val.shape))\n",
    "\n",
    "net_simple = SimpleNet(voc['voc_len'], 16, 16)\n",
    "# net_att = SAttendedSimpleNet(voc['voc_len'], 128, 128, 64, 3)\n",
    "net_att = SAttendedNet(voc['voc_len'], 128, 64, 32, 1, 22, 287)\n",
    "\n",
    "Xq = np.array(df_train.Question_encoded.values.tolist())\n",
    "Xa = np.array(df_train.Sentence_encoded.values.tolist())\n",
    "t = np.array(df_train.Label.values.tolist())\n",
    "\n",
    "Xq = torch.from_numpy(Xq)\n",
    "Xa = torch.from_numpy(Xa)\n",
    "t = torch.from_numpy(t)\n",
    "\n",
    "batch_size = 256\n",
    "epochs = 20"
   ]
  },
  {
   "cell_type": "code",
   "execution_count": 3,
   "metadata": {},
   "outputs": [],
   "source": [
    "Xq_val = np.array(df_val.Question_encoded.values.tolist())\n",
    "Xa_val = np.array(df_val.Sentence_encoded.values.tolist())\n",
    "t_val = np.array(df_val.Label.values.tolist())\n",
    "val_data = [(torch.from_numpy(Xq_val), torch.from_numpy(Xa_val)), torch.from_numpy(t_val)]"
   ]
  },
  {
   "cell_type": "code",
   "execution_count": 4,
   "metadata": {},
   "outputs": [
    {
     "name": "stderr",
     "output_type": "stream",
     "text": [
      "/home/jupyter/notebooks/Ivan Pastuhov/nn4nqa/custom_model/model.py:232: UserWarning: torch.nn.utils.clip_grad_norm is now deprecated in favor of torch.nn.utils.clip_grad_norm_.\n",
      "  _ = nn.utils.clip_grad_norm(self.parameters(), clip)\n"
     ]
    },
    {
     "name": "stdout",
     "output_type": "stream",
     "text": [
      "Training...\n",
      "Epoch: 0, loss: 0.69434. 1.3e+01 [s] per epoch. Val loss: 0.69355\n",
      "Epoch: 1, loss: 0.69321. 1.1e+01 [s] per epoch. Val loss: 0.69344\n",
      "Epoch: 2, loss: 0.68730. 1.3e+01 [s] per epoch. Val loss: 0.69348\n",
      "Epoch: 3, loss: 0.65300. 1.3e+01 [s] per epoch. Val loss: 0.69861\n",
      "Epoch: 4, loss: 0.60028. 1.3e+01 [s] per epoch. Val loss: 0.70747\n",
      "Epoch: 5, loss: 0.55099. 1.2e+01 [s] per epoch. Val loss: 0.70723\n",
      "Epoch: 6, loss: 0.48944. 1.3e+01 [s] per epoch. Val loss: 0.70265\n",
      "Epoch: 7, loss: 0.43797. 1.3e+01 [s] per epoch. Val loss: 0.70016\n",
      "Epoch: 8, loss: 0.41354. 1.2e+01 [s] per epoch. Val loss: 0.70438\n",
      "Epoch: 9, loss: 0.39321. 1.1e+01 [s] per epoch. Val loss: 0.69771\n",
      "Epoch: 10, loss: 0.38558. 1.3e+01 [s] per epoch. Val loss: 0.69235\n",
      "Epoch: 11, loss: 0.37705. 1.3e+01 [s] per epoch. Val loss: 0.68534\n",
      "Epoch: 12, loss: 0.36743. 1.3e+01 [s] per epoch. Val loss: 0.68194\n",
      "Epoch: 13, loss: 0.36324. 1.3e+01 [s] per epoch. Val loss: 0.68358\n",
      "Epoch: 14, loss: 0.36056. 1.3e+01 [s] per epoch. Val loss: 0.69870\n",
      "Epoch: 15, loss: 0.35131. 1.2e+01 [s] per epoch. Val loss: 0.70177\n",
      "Epoch: 16, loss: 0.34747. 1.2e+01 [s] per epoch. Val loss: 0.68833\n",
      "Epoch: 17, loss: 0.34458. 1.1e+01 [s] per epoch. Val loss: 0.68585\n",
      "Epoch: 18, loss: 0.34177. 1.3e+01 [s] per epoch. Val loss: 0.68523\n",
      "Epoch: 19, loss: 0.33934. 1.3e+01 [s] per epoch. Val loss: 0.68600\n",
      "Done!\n"
     ]
    }
   ],
   "source": [
    "optimizer = torch.optim.Adam\n",
    "loss_func = torch.nn.CrossEntropyLoss(weight=torch.tensor([0.05, 1.]).to(device))\n",
    "\n",
    "# net_simple.fit(Xq, Xa, t, batch_size, epochs, loss_func, optimizer, device, 50., val_data)\n",
    "net_att.fit(Xq, Xa, t, batch_size, epochs, loss_func, optimizer, device, 90., val_data)"
   ]
  },
  {
   "cell_type": "code",
   "execution_count": 6,
   "metadata": {},
   "outputs": [
    {
     "data": {
      "image/png": "[encoded data removed]",
      "text/plain": [
       "<matplotlib.figure.Figure at 0x7fdc9ecbdcc0>"
      ]
     },
     "metadata": {},
     "output_type": "display_data"
    }
   ],
   "source": [
    "import matplotlib.pyplot as plt\n",
    "plt.figure(figsize=(17,8))\n",
    "plt.subplot(1,2,1)\n",
    "plt.plot(range(len(net_simple.losses)), net_simple.losses)\n",
    "plt.plot(range(len(net_simple.val_losses)), net_simple.val_losses, c='r')\n",
    "plt.subplot(1,2,2)\n",
    "plt.plot(range(len(net_att.losses)), net_att.losses)\n",
    "plt.plot(range(len(net_att.val_losses)), net_att.val_losses, c='r')\n",
    "plt.show()"
   ]
  },
  {
   "cell_type": "markdown",
   "metadata": {},
   "source": [
    "## Softmax на линейное преобразование от матрицы аттеншна"
   ]
  },
  {
   "cell_type": "code",
   "execution_count": null,
   "metadata": {},
   "outputs": [],
   "source": [
    "a = torch.randn((7,6))\n",
    "sm = torch.nn.Softmax(-1)\n",
    "a = sm(a)\n",
    "a"
   ]
  },
  {
   "cell_type": "code",
   "execution_count": null,
   "metadata": {},
   "outputs": [],
   "source": [
    "vm = torch.nn.Linear(6, 1)\n",
    "sm_2 = torch.nn.Softmax(0)\n",
    "sm_2(vm(a))"
   ]
  },
  {
   "cell_type": "code",
   "execution_count": null,
   "metadata": {},
   "outputs": [],
   "source": []
  }
 ],
 "metadata": {
  "kernelspec": {
   "display_name": "Python 3.6 Ivan Pastuhov",
   "language": "python",
   "name": "pastuhov"
  },
  "language_info": {
   "codemirror_mode": {
    "name": "ipython",
    "version": 3
   },
   "file_extension": ".py",
   "mimetype": "text/x-python",
   "name": "python",
   "nbconvert_exporter": "python",
   "pygments_lexer": "ipython3",
   "version": "3.6.6"
  }
 },
 "nbformat": 4,
 "nbformat_minor": 2
}
