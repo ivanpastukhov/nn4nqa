{
 "cells": [
  {
   "cell_type": "markdown",
   "metadata": {},
   "source": [
    "# 2 - Updated Sentiment Analysis\n",
    "\n",
    "In the previous notebook, we got the fundamentals down for sentiment analysis. In this notebook, we'll actually get decent results.\n",
    "\n",
    "We will use:\n",
    "- pre-trained word embeddings\n",
    "- different RNN architecture\n",
    "- bidirectional RNN\n",
    "- multi-layer RNN\n",
    "- regularization\n",
    "- a different optimizer\n",
    "\n",
    "This will allow us to achieve ~85% test accuracy."
   ]
  },
  {
   "cell_type": "code",
   "execution_count": 1,
   "metadata": {},
   "outputs": [
    {
     "name": "stdout",
     "output_type": "stream",
     "text": [
      "  crossover_attention\u001b[m\r\n",
      "  custom_model\u001b[m\r\n",
      "  dev\u001b[m\r\n",
      "  master\u001b[m\r\n",
      "* \u001b[32mswapdim\u001b[m\r\n"
     ]
    }
   ],
   "source": [
    "! git branch"
   ]
  },
  {
   "cell_type": "markdown",
   "metadata": {},
   "source": [
    "## Preparing Data\n",
    "\n",
    "The same as before, we'll set the seed, define the `Fields` and get the train/valid/test splits."
   ]
  },
  {
   "cell_type": "code",
   "execution_count": 2,
   "metadata": {},
   "outputs": [],
   "source": [
    "import torch\n",
    "from torchtext import data\n",
    "from torchtext import datasets\n",
    "import random\n",
    "\n",
    "SEED = 1234\n",
    "\n",
    "torch.manual_seed(SEED)\n",
    "torch.cuda.manual_seed(SEED)\n",
    "torch.backends.cudnn.deterministic = True"
   ]
  },
  {
   "cell_type": "code",
   "execution_count": 3,
   "metadata": {},
   "outputs": [],
   "source": [
    "import pandas as pd"
   ]
  },
  {
   "cell_type": "code",
   "execution_count": 4,
   "metadata": {},
   "outputs": [],
   "source": [
    "df_train = pd.read_pickle('./data/processed/wikiqa_df_train.pickle')\n",
    "df_test = pd.read_pickle('./data/processed/wikiqa_df_test.pickle')\n",
    "df_val = pd.read_pickle('./data/processed/wikiqa_df_val.pickle')"
   ]
  },
  {
   "cell_type": "code",
   "execution_count": 5,
   "metadata": {},
   "outputs": [
    {
     "name": "stdout",
     "output_type": "stream",
     "text": [
      "  QuestionID                      Question DocumentID DocumentTitle  \\\n",
      "0         Q1  how are glacier caves formed         D1  Glacier cave   \n",
      "1         Q1  how are glacier caves formed         D1  Glacier cave   \n",
      "2         Q1  how are glacier caves formed         D1  Glacier cave   \n",
      "\n",
      "  SentenceID                                           Sentence  Label  \\\n",
      "0       D1-0  a partly submerged glacier cave on perito more...      0   \n",
      "1       D1-1             the ice facade is approximately m high      0   \n",
      "2       D1-2          ice formations in the titlis glacier cave      0   \n",
      "\n",
      "                                    Question_encoded  \\\n",
      "0  [198, 33, 9683, 11375, 1348, 0, 0, 0, 0, 0, 0,...   \n",
      "1  [198, 33, 9683, 11375, 1348, 0, 0, 0, 0, 0, 0,...   \n",
      "2  [198, 33, 9683, 11375, 1348, 0, 0, 0, 0, 0, 0,...   \n",
      "\n",
      "                                    Sentence_encoded  \n",
      "0  [8, 3547, 14174, 9683, 6543, 14, 153763, 12691...  \n",
      "1  [1, 1719, 13522, 15, 2128, 1994, 153, 0, 0, 0,...  \n",
      "2  [1719, 14062, 7, 1, 350149, 9683, 6543, 0, 0, ...  \n",
      "  QuestionID                                    Question DocumentID  \\\n",
      "0         Q8  how are epithelial tissues joined together         D8   \n",
      "1         Q8  how are epithelial tissues joined together         D8   \n",
      "2         Q8  how are epithelial tissues joined together         D8   \n",
      "\n",
      "      DocumentTitle SentenceID  \\\n",
      "0  Tissue (biology)       D8-0   \n",
      "1  Tissue (biology)       D8-1   \n",
      "2  Tissue (biology)       D8-2   \n",
      "\n",
      "                                            Sentence  Label  \\\n",
      "0  cross section of sclerenchyma fibers in plant ...      0   \n",
      "1  microscopic view of a histologic specimen of h...      0   \n",
      "2  in biology tissue is a cellular organizational...      0   \n",
      "\n",
      "                                    Question_encoded  \\\n",
      "0  [198, 33, 48149, 15090, 1031, 601, 0, 0, 0, 0,...   \n",
      "1  [198, 33, 48149, 15090, 1031, 601, 0, 0, 0, 0,...   \n",
      "2  [198, 33, 48149, 15090, 1031, 601, 0, 0, 0, 0,...   \n",
      "\n",
      "                                    Sentence_encoded  \n",
      "0  [1008, 1520, 4, 400001, 15820, 7, 1190, 818, 7...  \n",
      "1  [21793, 1140, 4, 8, 168802, 15274, 4, 474, 713...  \n",
      "2  [7, 7635, 7160, 15, 8, 7533, 11944, 506, 8530,...  \n",
      "  QuestionID                                         Question DocumentID  \\\n",
      "0         Q0  how african americans were immigrated to the us         D0   \n",
      "1         Q0  how african americans were immigrated to the us         D0   \n",
      "2         Q0  how african americans were immigrated to the us         D0   \n",
      "\n",
      "                              DocumentTitle SentenceID  \\\n",
      "0  African immigration to the United States       D0-0   \n",
      "1  African immigration to the United States       D0-1   \n",
      "2  African immigration to the United States       D0-2   \n",
      "\n",
      "                                            Sentence  Label  \\\n",
      "0  african immigration to the united states refer...      0   \n",
      "1  the term african in the scope of this article ...      0   \n",
      "2  from the immigration and nationality act of to...      0   \n",
      "\n",
      "                                    Question_encoded  \\\n",
      "0  [198, 686, 828, 36, 17017, 5, 1, 96, 0, 0, 0, ...   \n",
      "1  [198, 686, 828, 36, 17017, 5, 1, 96, 0, 0, 0, ...   \n",
      "2  [198, 686, 828, 36, 17017, 5, 1, 96, 0, 0, 0, ...   \n",
      "\n",
      "                                    Sentence_encoded  \n",
      "0  [686, 2253, 5, 1, 105, 113, 4666, 5, 2598, 5, ...  \n",
      "1  [1, 571, 686, 7, 1, 6174, 4, 38, 1760, 4666, 5...  \n",
      "2  [26, 1, 2253, 6, 9690, 744, 4, 5, 30, 1274, 47...  \n"
     ]
    }
   ],
   "source": [
    "for i in (df_train.head(3), df_val.head(3), df_test.head(3)):\n",
    "    print(i)"
   ]
  },
  {
   "cell_type": "markdown",
   "metadata": {},
   "source": [
    "The first addition is the use of pre-trained word embeddings. Now, instead of having our word embeddings initialized randomly, they are initialized with these pre-trained vectors.\n",
    "We get these vectors simply by specifying which vectors we want, and passing it as an argument to `build_vocab`. Here, we'll be using the `\"glove.6B.100d\" vectors\"`. `glove` is the algorithm used to calculate the vectors, go [here](https://nlp.stanford.edu/projects/glove/) for more. `6B` indicates these vectors were trained on 6 billion tokens and `100d` indicates these vectors are 100-dimensional.\n",
    "\n",
    "You can see the other available vectors [here](https://github.com/pytorch/text/blob/master/torchtext/vocab.py#L113).\n",
    "\n",
    "The theory is that these pre-trained vectors already have words with similar semantic meaning close together in vector space, e.g. \"terrible\", \"awful\", \"dreadful\" are nearby. This gives our embedding layer a good initialization as it does not have to learn these relations from scratch.\n",
    "\n",
    "**Note**: these vectors are about 862MB, so watch out if you have a limited internet connection."
   ]
  },
  {
   "cell_type": "code",
   "execution_count": 130,
   "metadata": {},
   "outputs": [
    {
     "name": "stdout",
     "output_type": "stream",
     "text": [
      "cuda\n"
     ]
    }
   ],
   "source": [
    "BATCH_SIZE = 1024\n",
    "\n",
    "device = torch.device('cuda' if torch.cuda.is_available() else 'cpu')\n",
    "print(device)"
   ]
  },
  {
   "cell_type": "code",
   "execution_count": 131,
   "metadata": {},
   "outputs": [],
   "source": [
    "import math \n",
    "class SelfAttention():\n",
    "    def __init__(self, dropout=None, positional_encoding=False):\n",
    "        if dropout:\n",
    "            # TODO: dropout\n",
    "            raise NotImplementedError()\n",
    "        if positional_encoding:\n",
    "            # TODO: positional encoding\n",
    "            raise NotImplementedError()\n",
    "        pass\n",
    "\n",
    "    @staticmethod\n",
    "    def self_attention(query, key, value):\n",
    "        d_k = value.size(-1)\n",
    "        score = torch.bmm(query, key.permute(0,2,1))\n",
    "        score = score / math.sqrt(d_k)\n",
    "        # TODO: потенциально слабое место с направлением softmax'a.\n",
    "        p_att = F.softmax(score, dim=-1)\n",
    "        score = torch.bmm(p_att, value)\n",
    "        return score, p_att"
   ]
  },
  {
   "cell_type": "code",
   "execution_count": 132,
   "metadata": {},
   "outputs": [],
   "source": [
    "import torch.nn as nn\n",
    "from torch.nn import functional as F\n",
    "class MultiheadAttention(nn.Module):\n",
    "    def __init__(self, n_heads, emb_size, att_size=128, dropout=None):\n",
    "        super(MultiheadAttention, self).__init__()\n",
    "#         if dropout:\n",
    "#             # TODO: dropout\n",
    "#             raise NotImplementedError\n",
    "        self.n_heads = n_heads\n",
    "        self.emb_size = emb_size\n",
    "        self.att_size = att_size\n",
    "        self.attention = SelfAttention().self_attention\n",
    "        # (W_q) n_heads times:\n",
    "        self.linear_query = nn.ModuleList([nn.Linear(self.emb_size, self.att_size) for _ in range(self.n_heads)])\n",
    "        # (W_k) n_heads times:\n",
    "        self.linear_key = nn.ModuleList([nn.Linear(self.emb_size, self.att_size) for _ in range(self.n_heads)])\n",
    "        # (W_v) n_heads times:\n",
    "        self.linear_value = nn.ModuleList([nn.Linear(self.emb_size, self.att_size) for _ in range(self.n_heads)])\n",
    "        # Fields for keeping attended values and attention_probabilities\n",
    "        self.att_probas = []    # n_heads х n_sentences x max_len x max_len\n",
    "        self.scores = []\n",
    "        # Linear layer to transform concatenated heads\n",
    "        self.output_linear = nn.Linear(n_heads*att_size, emb_size)\n",
    "        self.dropout = nn.Dropout(p=dropout)\n",
    "\n",
    "    def forward(self, query, key, value):\n",
    "        # for each head:\n",
    "        for head in range(self.n_heads):\n",
    "            q = self.dropout(self.linear_query[head](query))\n",
    "            k = self.dropout(self.linear_key[head](key))\n",
    "            v = self.dropout(self.linear_value[head](value))\n",
    "            # Scaled dot-product attention:\n",
    "            score, p_att = self.attention(q,k,v)\n",
    "            self.att_probas.append(p_att)\n",
    "            self.scores.append(score)\n",
    "        # Concatenate resulting matrices concat(z_0, z_1, ... z__n_heads)\n",
    "        scores = torch.cat(self.scores, -1)\n",
    "        # Transform concatenated\n",
    "        scores = self.dropout(self.output_linear(scores))\n",
    "        # Update attention probabilities for every head\n",
    "        att_probas = self.att_probas\n",
    "        # Reset scores and probabilities\n",
    "        self.scores = []\n",
    "        self.att_probas = []\n",
    "        return scores, att_probas"
   ]
  },
  {
   "cell_type": "code",
   "execution_count": 133,
   "metadata": {},
   "outputs": [],
   "source": [
    "class AttentionFlattener(nn.Module):\n",
    "    def __init__(self, seq_len):\n",
    "        super(AttentionFlattener, self).__init__()\n",
    "        self.attention_matrix = None\n",
    "        self.linear = nn.Linear(seq_len, 1)\n",
    "#         self.softmax = nn.Softmax(1)\n",
    "        pass\n",
    "\n",
    "    def forward(self, x):\n",
    "        self.attention_matrix = x\n",
    "        scores = self.linear(self.attention_matrix)\n",
    "        scores = F.softmax(scores, dim=1)\n",
    "        return scores"
   ]
  },
  {
   "cell_type": "markdown",
   "metadata": {},
   "source": [
    "## Build the Model\n",
    "\n",
    "The model features the most drastic changes.\n",
    "\n",
    "### Different RNN Architecture\n",
    "\n",
    "We'll be using a different RNN architecture called a Long Short-Term Memory (LSTM). Why is an LSTM better than a standard RNN? Standard RNNs suffer from the [vanishing gradient problem](https://en.wikipedia.org/wiki/Vanishing_gradient_problem). LSTMs overcome this by having an extra recurrent state called a _cell_, $c$ - which can be thought of as the \"memory\" of the LSTM - and the use use multiple _gates_ which control the flow of information into and out of the memory. For more information, go [here](https://colah.github.io/posts/2015-08-Understanding-LSTMs/). We can simply think of the LSTM as a function of $x_t$, $h_t$ and $c_t$, instead of just $x_t$ and $h_t$.\n",
    "\n",
    "$$(h_t, c_t) = \\text{LSTM}(x_t, h_t, c_t)$$\n",
    "\n",
    "Thus, the model using an LSTM looks something like:\n",
    "\n",
    "![](assets/sentiment2.png)\n",
    "\n",
    "The initial cell state, $c_0$, like the initial hidden state is initialized to a tensor of all zeros. The sentiment prediction is still, however, only made using the final hidden state, not the final cell state, i.e. $\\hat{y}=f(h_T)$.\n",
    "\n",
    "### Bidirectional RNN\n",
    "\n",
    "The concept behind a bidirectional RNN is simple. As well as having an RNN processing the words in the sentence from the first to the last (a forward RNN), we have a second RNN processing the words in the sentence from the **last to the first** (a backward RNN). In PyTorch, the hidden state (and cell state) tensors returned by the forward and backward RNNs are stacked on top of each other. We make our sentiment prediction using the last hidden state from the forward RNN (obtained from final word of the sentence), $h_T^\\rightarrow$, and the last hidden state from the backward RNN (obtained from the first word of the sentence), $h_T^\\leftarrow$, i.e. $\\hat{y}=f(h_T^\\rightarrow, h_T^\\leftarrow)$   \n",
    "\n",
    "The image below shows a bi-directional RNN, with the forward RNN in orange, the backward RNN in green and the linear layer in silver.  \n",
    "\n",
    "![](assets/sentiment3.png)\n",
    "\n",
    "### Multi-layer RNN\n",
    "\n",
    "Multi-layer RNNs (also called *deep RNNs*) are another simple concept. The idea is that we add additional RNNs on top of the initial standard RNN, where each RNN added is another *layer*. The hidden state output by the first (bottom) RNN at time-step $t$ will be the input to the RNN above it at time step $t$. The prediction is then made from the final hidden state of the final (highest) layer.\n",
    "\n",
    "The image below shows a multi-layer unidirectional RNN, where the layer number is given as a superscript. Also note that each layer needs their own initial hidden state, $h_0^L$.\n",
    "\n",
    "![](assets/sentiment4.png)\n",
    "\n",
    "### Regularization\n",
    "\n",
    "Although we've added improvements to our model, each one adds additional parameters. Without going into overfitting into to much detail, the more parameters you have in in your model, the higher the probability that your model will overfit (memorize the training data, causing  a low training error but high validation/testing error, i.e. poor generalization to new, unseen examples). To combat this, we use regularization. More specifically, we use a method of regularization called *dropout*. Dropout works by randomly *dropping out* (setting to 0) neurons in a layer during a forward pass. The probability that each neuron is dropped out is set by a hyperparameter and each neuron with dropout applied is considered indepenently. One theory about why dropout works is that a model with parameters dropped out can be seen as a \"weaker\" (less parameters) model. The predictions from all these \"weaker\" models (one for each forward pass) get averaged together withinin the parameters of the model. Thus, your one model can be thought of as an ensemble of weaker models, none of which are over-parameterized and thus should not overfit.\n",
    "\n",
    "### Implementation Details\n",
    "\n",
    "To use an LSTM instead of the standard RNN, we use `nn.LSTM` instead of `nn.RNN`. Also, note that the LSTM returns the `output` and a tuple of the final `hidden` state and the final `cell` state, whereas the standard RNN only returned the `output` and final `hidden` state. \n",
    "\n",
    "As the final hidden state of our LSTM has both a forward and a backward component, which will be concatenated together, the size of the input to the `nn.Linear` layer is twice that of the hidden dimension size.\n",
    "\n",
    "Implementing bidirectionality and adding additional layers are done by passing values for the `num_layers` and `bidirectional` arguments for the RNN/LSTM. \n",
    "\n",
    "Dropout is implemented by initializing an `nn.Dropout` layer (the argument is the probability of dropping out each neuron) and using it within the `forward` method after each layer we want to apply dropout to. **Note**: never use dropout on the input or output layers (`x` or `fc` in this case), you only ever want to use dropout on intermediate layers. The LSTM has a `dropout` argument which adds dropout on the connections between hidden states in one layer to hidden states in the next layer. \n",
    "\n",
    "The final hidden state, `hidden`, has a shape of _**[num layers * num directions, batch size, hid dim]**_. These are ordered: **[forward_layer_0, backward_layer_0, forward_layer_1, backward_layer 1, ..., forward_layer_n, backward_layer n]**. As we want the final (top) layer forward and backward hidden states, we get the top two hidden layers from the first dimension, `hidden[-2,:,:]` and `hidden[-1,:,:]`, and concatenate them together before passing them to the linear layer (after applying dropout). "
   ]
  },
  {
   "cell_type": "code",
   "execution_count": 134,
   "metadata": {},
   "outputs": [],
   "source": [
    "import torch.nn as nn\n",
    "from torch.nn import functional as F\n",
    "\n",
    "\n",
    "class RNN_3(nn.Module):\n",
    "    def __init__(self, vocab_size, embedding_dim, hidden_dim, output_dim,\n",
    "                 n_layers, bidirectional, dropout, q_len, a_len):\n",
    "        super().__init__()\n",
    "        \n",
    "        self.embedding_l = nn.Embedding(vocab_size, embedding_dim)\n",
    "        self.embedding_r = nn.Embedding(vocab_size, embedding_dim)\n",
    "        \n",
    "        self.rnn_l = nn.GRU(embedding_dim, hidden_dim,\n",
    "                           num_layers=n_layers, bidirectional=bidirectional,\n",
    "                           dropout=dropout, batch_first=True)\n",
    "        self.rnn_r = nn.GRU(embedding_dim, hidden_dim,\n",
    "                           num_layers=n_layers, bidirectional=bidirectional,\n",
    "                           dropout=dropout, batch_first=True)\n",
    "        \n",
    "        self.att_l = MultiheadAttention(1, hidden_dim, hidden_dim, dropout)\n",
    "        self.att_r = MultiheadAttention(1, hidden_dim, hidden_dim, dropout)\n",
    "        \n",
    "        self.l_flattener = AttentionFlattener(q_len)\n",
    "        self.r_flattener = AttentionFlattener(a_len)\n",
    "        \n",
    "        self.fc = nn.Linear(hidden_dim*2, output_dim)\n",
    "        self.dropout = nn.Dropout(dropout)\n",
    "        self.l_probas = None\n",
    "        self.r_probas = None\n",
    "        \n",
    "    def forward(self, x_l, x_r):\n",
    "        \n",
    "        #x = [sent len, batch size]\n",
    "        \n",
    "        embedded_l = self.dropout(self.embedding_l(x_l))\n",
    "        embedded_r = self.dropout(self.embedding_r(x_r))\n",
    "        \n",
    "        output_l, hidden_l = self.rnn_l(embedded_l)\n",
    "        output_r, hidden_r = self.rnn_r(embedded_r)\n",
    "        \n",
    "        h_l, probas_l = self.att_l(output_l, output_r, output_r)\n",
    "        h_r, probas_r = self.att_r(output_r, output_l, output_l)\n",
    "\n",
    "        probas_l = self.l_flattener(probas_l[0])\n",
    "        probas_r = self.r_flattener(probas_r[0])\n",
    "        \n",
    "#         print(probas_l.shape, hidden_l.shape, hidden_r.shape, probas_r.shape)\n",
    "        hidden_l = probas_l * h_l\n",
    "        hidden_r = probas_r * h_r\n",
    "        \n",
    "        hidden_l = torch.mean(hidden_l, dim=1)\n",
    "        hidden_r = torch.mean(hidden_r, dim=1)\n",
    "        \n",
    "        hidden = torch.cat((hidden_l, hidden_r), dim=1)\n",
    "        self.l_probas = probas_l\n",
    "        self.r_probas = probas_r\n",
    "        return self.fc(hidden.squeeze(0))\n",
    "\n",
    "\n",
    "class RNN_2(nn.Module):\n",
    "    def __init__(self, vocab_size, embedding_dim, hidden_dim, output_dim, n_layers, bidirectional, dropout):\n",
    "        super().__init__()\n",
    "        \n",
    "        self.embedding_l = nn.Embedding(vocab_size, embedding_dim)\n",
    "        self.rnn_l = nn.LSTM(embedding_dim, hidden_dim,\n",
    "                           num_layers=n_layers, bidirectional=bidirectional,\n",
    "                           dropout=dropout, batch_first=True)\n",
    "        self.att_l = MultiheadAttention(3, hidden_dim, hidden_dim, dropout=dropout)\n",
    "        \n",
    "        self.embedding_r = nn.Embedding(vocab_size, embedding_dim)\n",
    "        self.rnn_r = nn.LSTM(embedding_dim, hidden_dim,\n",
    "                           num_layers=n_layers, bidirectional=bidirectional,\n",
    "                           dropout=dropout, batch_first=True)\n",
    "        self.att_r = MultiheadAttention(3, hidden_dim, hidden_dim, dropout=dropout)\n",
    "        \n",
    "        self.fc = nn.Linear(hidden_dim*2, output_dim)\n",
    "        self.dropout = nn.Dropout(dropout)\n",
    "        self.l_probas = None\n",
    "        self.r_probas = None\n",
    "        \n",
    "    def forward(self, x_l, x_r):\n",
    "        \n",
    "        #x = [sent len, batch size]\n",
    "        \n",
    "        embedded_l = self.dropout(self.embedding_l(x_l))\n",
    "        embedded_r = self.dropout(self.embedding_r(x_r))\n",
    "#         print(embedded.size())\n",
    "        \n",
    "        #embedded = [sent len, batch size, emb dim]\n",
    "        \n",
    "        output_l, (hidden_l, cell_l) = self.rnn_l(embedded_l)\n",
    "        output_r, (hidden_r, cell_r) = self.rnn_r(embedded_r)\n",
    "        \n",
    "        #output = [sent len, batch size, hid dim * num directions]\n",
    "        #hidden = [num layers * num directions, batch size, hid dim]\n",
    "        #cell = [num layers * num directions, batch size, hid dim]\n",
    "        \n",
    "        #concat the final forward (hidden[-2,:,:]) and backward (hidden[-1,:,:]) hidden layers\n",
    "        #and apply dropout\n",
    "        hidden_l, probas_l = self.att_l(output_l, output_r, output_r)\n",
    "        hidden_r, probas_r = self.att_r(output_r, output_l, output_l)\n",
    "        hidden_l = torch.mean(hidden_l, dim=1)\n",
    "        hidden_r = torch.mean(hidden_r, dim=1)\n",
    "        hidden = torch.cat((hidden_l, hidden_r), dim=1)\n",
    "#         print(hidden_l.shape, hidden_r.shape, hidden.shape)\n",
    "        self.l_probas = probas_l\n",
    "        self.r_probas = probas_r\n",
    "#         print(hidden.size())\n",
    "#         hidden = self.dropout(torch.cat((hidden[-2,:,:], hidden[-1,:,:]), dim=1))\n",
    "                \n",
    "        #hidden = [batch size, hid dim * num directions]\n",
    "#         print(hidden.squeeze(0).shape)\n",
    "        return self.fc(hidden.squeeze(0))\n",
    "      \n",
    "    \n",
    "    \n",
    "class RNN_1(nn.Module):\n",
    "    def __init__(self, vocab_size, embedding_dim, hidden_dim, output_dim, n_layers, bidirectional):\n",
    "        super().__init__()\n",
    "        \n",
    "        self.embedding_l = nn.Embedding(vocab_size, embedding_dim)\n",
    "        self.rnn_l = nn.LSTM(embedding_dim, hidden_dim,\n",
    "                           num_layers=n_layers, bidirectional=bidirectional,\n",
    "                           dropout=dropout, batch_first=True)\n",
    "        \n",
    "        self.embedding_r = nn.Embedding(vocab_size, embedding_dim)\n",
    "        self.rnn_r = nn.LSTM(embedding_dim, hidden_dim,\n",
    "                           num_layers=n_layers, bidirectional=bidirectional,\n",
    "                           dropout=dropout, batch_first=True)\n",
    "        self.fc = nn.Linear(hidden_dim*2, output_dim)\n",
    "        self.dropout = nn.Dropout(dropout)\n",
    "        \n",
    "    def forward(self, x_l, x_r):\n",
    "        \n",
    "        #x = [sent len, batch size]\n",
    "        \n",
    "        embedded_l = self.dropout(self.embedding_l(x_l))\n",
    "        embedded_r = self.dropout(self.embedding_r(x_r))\n",
    "#         print(embedded.size())\n",
    "        \n",
    "        #embedded = [sent len, batch size, emb dim]\n",
    "        \n",
    "        output_l, (hidden_l, cell_l) = self.rnn_l(embedded_l)\n",
    "        output_r, (hidden_r, cell_r) = self.rnn_r(embedded_r)\n",
    "        \n",
    "        #output = [sent len, batch size, hid dim * num directions]\n",
    "        #hidden = [num layers * num directions, batch size, hid dim]\n",
    "        #cell = [num layers * num directions, batch size, hid dim]\n",
    "        \n",
    "        #concat the final forward (hidden[-2,:,:]) and backward (hidden[-1,:,:]) hidden layers\n",
    "        #and apply dropout\n",
    "#         hidden_l = self.dropout(torch.mean(output_l, dim=1))\n",
    "#         hidden_r = self.dropout(torch.mean(output_r, dim=1))\n",
    "        hidden = torch.cat((hidden_l[0], hidden_r[0]), dim=1)\n",
    "#         print(hidden_l.shape, hidden_r.shape, hidden.shape)\n",
    "#         hidden = self.dropout(torch.cat((hidden[-2,:,:], hidden[-1,:,:]), dim=1))\n",
    "                \n",
    "        #hidden = [batch size, hid dim * num directions]\n",
    "#         print(hidden.squeeze(0).shape)\n",
    "        return self.fc(hidden.squeeze(0))"
   ]
  },
  {
   "cell_type": "markdown",
   "metadata": {},
   "source": [
    "Like before, we'll create an instance of our RNN class, with the new parameters and arguments for the number of layers, bidirectionality and dropout probability.\n",
    "\n",
    "To ensure the pre-trained vectors can be loaded into the model, the `EMBEDDING_DIM` must be equal to that of the pre-trained GloVe vectors loaded earlier."
   ]
  },
  {
   "cell_type": "code",
   "execution_count": 135,
   "metadata": {},
   "outputs": [],
   "source": [
    "import numpy as np"
   ]
  },
  {
   "cell_type": "code",
   "execution_count": 136,
   "metadata": {},
   "outputs": [],
   "source": [
    "pretrained_embeddings = np.load('./data/processed/index2vector.npy')"
   ]
  },
  {
   "cell_type": "code",
   "execution_count": 137,
   "metadata": {},
   "outputs": [
    {
     "data": {
      "text/plain": [
       "(400002, 200)"
      ]
     },
     "execution_count": 137,
     "metadata": {},
     "output_type": "execute_result"
    }
   ],
   "source": [
    "pretrained_embeddings.shape"
   ]
  },
  {
   "cell_type": "code",
   "execution_count": 138,
   "metadata": {},
   "outputs": [
    {
     "name": "stderr",
     "output_type": "stream",
     "text": [
      "/home/jupyter/anaconda3/lib/python3.6/site-packages/torch/nn/modules/rnn.py:38: UserWarning: dropout option adds dropout after all but last recurrent layer, so non-zero dropout expects num_layers greater than 1, but got dropout=0.2 and num_layers=1\n",
      "  \"num_layers={}\".format(dropout, num_layers))\n"
     ]
    }
   ],
   "source": [
    "INPUT_DIM = len(pretrained_embeddings)\n",
    "EMBEDDING_DIM = 200\n",
    "HIDDEN_DIM = 64\n",
    "OUTPUT_DIM = 1\n",
    "N_LAYERS = 1\n",
    "BIDIRECTIONAL = False\n",
    "DROPOUT = 0.2\n",
    "\n",
    "model = RNN_3(INPUT_DIM, EMBEDDING_DIM, HIDDEN_DIM, OUTPUT_DIM,\n",
    "              N_LAYERS, BIDIRECTIONAL, DROPOUT, df_train.Sentence_encoded.apply(len).max(),\n",
    "              df_train.Question_encoded.apply(len).max())"
   ]
  },
  {
   "cell_type": "markdown",
   "metadata": {},
   "source": [
    "The final addition is copying the pre-trained word embeddings we loaded earlier into the `embedding` layer of our model.\n",
    "\n",
    "We retrieve the embeddings from the field's vocab, and check they're the correct size, _**[vocab size, embedding dim]**_ "
   ]
  },
  {
   "cell_type": "code",
   "execution_count": 139,
   "metadata": {},
   "outputs": [
    {
     "name": "stdout",
     "output_type": "stream",
     "text": [
      "(400002, 200)\n"
     ]
    }
   ],
   "source": [
    "print(pretrained_embeddings.shape)"
   ]
  },
  {
   "cell_type": "markdown",
   "metadata": {},
   "source": [
    "We then replace the initial weights of the `embedding` layer with the pre-trained embeddings."
   ]
  },
  {
   "cell_type": "code",
   "execution_count": 140,
   "metadata": {},
   "outputs": [
    {
     "data": {
      "text/plain": [
       "Embedding(400002, 200)"
      ]
     },
     "execution_count": 140,
     "metadata": {},
     "output_type": "execute_result"
    }
   ],
   "source": [
    "# model.embedding_l.weight.data.copy_(torch.from_numpy(pretrained_embeddings))\n",
    "# model.embedding_r.weight.data.copy_(torch.from_numpy(pretrained_embeddings))\n",
    "model.embedding_l.from_pretrained(torch.from_numpy(pretrained_embeddings), freeze=True)\n",
    "model.embedding_r.from_pretrained(torch.from_numpy(pretrained_embeddings), freeze=True)"
   ]
  },
  {
   "cell_type": "code",
   "execution_count": 141,
   "metadata": {},
   "outputs": [
    {
     "data": {
      "text/plain": [
       "160136664"
      ]
     },
     "execution_count": 141,
     "metadata": {},
     "output_type": "execute_result"
    }
   ],
   "source": [
    "pytorch_total_params = sum(p.numel() for p in model.parameters() if p.requires_grad)\n",
    "pytorch_total_params"
   ]
  },
  {
   "cell_type": "code",
   "execution_count": 142,
   "metadata": {},
   "outputs": [],
   "source": [
    "model.embedding_l.weight.requires_grad=False\n",
    "model.embedding_r.weight.requires_grad=False"
   ]
  },
  {
   "cell_type": "code",
   "execution_count": 143,
   "metadata": {},
   "outputs": [
    {
     "data": {
      "text/plain": [
       "135864"
      ]
     },
     "execution_count": 143,
     "metadata": {},
     "output_type": "execute_result"
    }
   ],
   "source": [
    "pytorch_total_params = sum(p.numel() for p in model.parameters() if p.requires_grad)\n",
    "pytorch_total_params"
   ]
  },
  {
   "cell_type": "markdown",
   "metadata": {},
   "source": [
    "## Train the Model"
   ]
  },
  {
   "cell_type": "markdown",
   "metadata": {},
   "source": [
    "Now to training the model.\n",
    "\n",
    "The only change we'll make here is changing the optimizer from `SGD` to `Adam`. SGD updates all parameters with the same learning rate and choosing this learning rate can be tricky. `Adam` adapts the learning rate for each parameter, giving parameters that are updated more frequently lower learning rates and parameters that are updated infrequently higher learning rates. More information about `Adam` (and other optimizers) can be found [here](http://ruder.io/optimizing-gradient-descent/index.html).\n",
    "\n",
    "To change `SGD` to `Adam`, we simply change `optim.SGD` to `optim.Adam`, also note how we do not have to provide an initial learning rate for Adam as PyTorch specifies a sensibile default initial learning rate."
   ]
  },
  {
   "cell_type": "code",
   "execution_count": 144,
   "metadata": {},
   "outputs": [],
   "source": [
    "import torch.optim as optim\n",
    "\n",
    "optimizer = optim.Adam(model.parameters())"
   ]
  },
  {
   "cell_type": "markdown",
   "metadata": {},
   "source": [
    "The rest of the steps for training the model are unchanged.\n",
    "\n",
    "We define the criterion and place the model and criterion on the GPU (if available)..."
   ]
  },
  {
   "cell_type": "code",
   "execution_count": 145,
   "metadata": {},
   "outputs": [],
   "source": [
    "criterion = nn.BCEWithLogitsLoss()\n",
    "\n",
    "model = model.to(device)\n",
    "criterion = criterion.to(device)"
   ]
  },
  {
   "cell_type": "markdown",
   "metadata": {},
   "source": [
    "We implement the function to calculate accuracy..."
   ]
  },
  {
   "cell_type": "code",
   "execution_count": 146,
   "metadata": {},
   "outputs": [],
   "source": [
    "def binary_accuracy(preds, y):\n",
    "    \"\"\"\n",
    "    Returns accuracy per batch, i.e. if you get 8/10 right, this returns 0.8, NOT 8\n",
    "    \"\"\"\n",
    "\n",
    "    #round predictions to the closest integer\n",
    "    rounded_preds = torch.round(torch.sigmoid(preds))\n",
    "    correct = (rounded_preds == y).float() #convert into float for division \n",
    "    acc = correct.sum()/len(correct)\n",
    "    return acc"
   ]
  },
  {
   "cell_type": "markdown",
   "metadata": {},
   "source": [
    "We define a function for training our model...\n",
    "\n",
    "**Note**: as we are now using dropout, we must remember to use `model.train()` to ensure the dropout is \"turned on\" while training."
   ]
  },
  {
   "cell_type": "code",
   "execution_count": 147,
   "metadata": {},
   "outputs": [
    {
     "data": {
      "text/html": [
       "<div>\n",
       "<style scoped>\n",
       "    .dataframe tbody tr th:only-of-type {\n",
       "        vertical-align: middle;\n",
       "    }\n",
       "\n",
       "    .dataframe tbody tr th {\n",
       "        vertical-align: top;\n",
       "    }\n",
       "\n",
       "    .dataframe thead th {\n",
       "        text-align: right;\n",
       "    }\n",
       "</style>\n",
       "<table border=\"1\" class=\"dataframe\">\n",
       "  <thead>\n",
       "    <tr style=\"text-align: right;\">\n",
       "      <th></th>\n",
       "      <th>QuestionID</th>\n",
       "      <th>Question</th>\n",
       "      <th>DocumentID</th>\n",
       "      <th>DocumentTitle</th>\n",
       "      <th>SentenceID</th>\n",
       "      <th>Sentence</th>\n",
       "      <th>Label</th>\n",
       "      <th>Question_encoded</th>\n",
       "      <th>Sentence_encoded</th>\n",
       "    </tr>\n",
       "  </thead>\n",
       "  <tbody>\n",
       "    <tr>\n",
       "      <th>0</th>\n",
       "      <td>Q1</td>\n",
       "      <td>how are glacier caves formed</td>\n",
       "      <td>D1</td>\n",
       "      <td>Glacier cave</td>\n",
       "      <td>D1-0</td>\n",
       "      <td>a partly submerged glacier cave on perito more...</td>\n",
       "      <td>0</td>\n",
       "      <td>[198, 33, 9683, 11375, 1348, 0, 0, 0, 0, 0, 0,...</td>\n",
       "      <td>[8, 3547, 14174, 9683, 6543, 14, 153763, 12691...</td>\n",
       "    </tr>\n",
       "    <tr>\n",
       "      <th>1</th>\n",
       "      <td>Q1</td>\n",
       "      <td>how are glacier caves formed</td>\n",
       "      <td>D1</td>\n",
       "      <td>Glacier cave</td>\n",
       "      <td>D1-1</td>\n",
       "      <td>the ice facade is approximately m high</td>\n",
       "      <td>0</td>\n",
       "      <td>[198, 33, 9683, 11375, 1348, 0, 0, 0, 0, 0, 0,...</td>\n",
       "      <td>[1, 1719, 13522, 15, 2128, 1994, 153, 0, 0, 0,...</td>\n",
       "    </tr>\n",
       "    <tr>\n",
       "      <th>2</th>\n",
       "      <td>Q1</td>\n",
       "      <td>how are glacier caves formed</td>\n",
       "      <td>D1</td>\n",
       "      <td>Glacier cave</td>\n",
       "      <td>D1-2</td>\n",
       "      <td>ice formations in the titlis glacier cave</td>\n",
       "      <td>0</td>\n",
       "      <td>[198, 33, 9683, 11375, 1348, 0, 0, 0, 0, 0, 0,...</td>\n",
       "      <td>[1719, 14062, 7, 1, 350149, 9683, 6543, 0, 0, ...</td>\n",
       "    </tr>\n",
       "  </tbody>\n",
       "</table>\n",
       "</div>"
      ],
      "text/plain": [
       "  QuestionID                      Question DocumentID DocumentTitle  \\\n",
       "0         Q1  how are glacier caves formed         D1  Glacier cave   \n",
       "1         Q1  how are glacier caves formed         D1  Glacier cave   \n",
       "2         Q1  how are glacier caves formed         D1  Glacier cave   \n",
       "\n",
       "  SentenceID                                           Sentence  Label  \\\n",
       "0       D1-0  a partly submerged glacier cave on perito more...      0   \n",
       "1       D1-1             the ice facade is approximately m high      0   \n",
       "2       D1-2          ice formations in the titlis glacier cave      0   \n",
       "\n",
       "                                    Question_encoded  \\\n",
       "0  [198, 33, 9683, 11375, 1348, 0, 0, 0, 0, 0, 0,...   \n",
       "1  [198, 33, 9683, 11375, 1348, 0, 0, 0, 0, 0, 0,...   \n",
       "2  [198, 33, 9683, 11375, 1348, 0, 0, 0, 0, 0, 0,...   \n",
       "\n",
       "                                    Sentence_encoded  \n",
       "0  [8, 3547, 14174, 9683, 6543, 14, 153763, 12691...  \n",
       "1  [1, 1719, 13522, 15, 2128, 1994, 153, 0, 0, 0,...  \n",
       "2  [1719, 14062, 7, 1, 350149, 9683, 6543, 0, 0, ...  "
      ]
     },
     "execution_count": 147,
     "metadata": {},
     "output_type": "execute_result"
    }
   ],
   "source": [
    "df_train.head(3)"
   ]
  },
  {
   "cell_type": "code",
   "execution_count": null,
   "metadata": {},
   "outputs": [],
   "source": []
  },
  {
   "cell_type": "code",
   "execution_count": 148,
   "metadata": {},
   "outputs": [],
   "source": [
    "data = df_train.loc[:, ['Question_encoded', 'Sentence_encoded', 'Label']]\n",
    "\n",
    "lst = [data]\n",
    "max_size = df_train.Label.value_counts().max()\n",
    "for class_index, group in data.groupby('Label'):\n",
    "    lst.append(group.sample(max_size-len(group), replace=True))\n",
    "data = pd.concat(lst)\n",
    "data.loc[:, 'Label'] = data.loc[:, 'Label'].apply(lambda x: 1. if x==1 else 0)\n",
    "\n",
    "data_val = df_val.loc[:, ['Question_encoded', 'Sentence_encoded', 'Label']]\n",
    "lst = [data_val]\n",
    "max_size = df_val.Label.value_counts().max()\n",
    "for class_index, group in data_val.groupby('Label'):\n",
    "    lst.append(group.sample(max_size-len(group), replace=True))\n",
    "data_val = pd.concat(lst)\n",
    "data_val.loc[:, 'Label'] = data_val.loc[:, 'Label'].apply(lambda x: 1. if x==1 else 0.)\n",
    "\n",
    "data_test = df_test.loc[:, ['Question_encoded', 'Sentence_encoded', 'Label']]\n",
    "data_test.loc[:, 'Label'] = data_test.loc[:, 'Label'].apply(lambda x: 1. if x==1 else 0.)"
   ]
  },
  {
   "cell_type": "code",
   "execution_count": 149,
   "metadata": {},
   "outputs": [],
   "source": [
    "def data_iterator(df, batch_size, X_colname_l, X_colname_r, y_colname, device):\n",
    "    lb = 0\n",
    "    rb = batch_size\n",
    "    while lb < len(df):\n",
    "        X_l = df.iloc[lb:rb].loc[:, X_colname_l].values.tolist()\n",
    "        X_r = df.iloc[lb:rb].loc[:, X_colname_r].values.tolist()\n",
    "        X_l = torch.from_numpy(np.array(X_l)).to(device)\n",
    "        X_r = torch.from_numpy(np.array(X_r)).to(device)\n",
    "        y = df.iloc[lb:rb].loc[:, y_colname].values.tolist()\n",
    "        y = torch.from_numpy(np.array(y).astype('float32')).to(device)\n",
    "        lb += batch_size\n",
    "        rb += batch_size\n",
    "        yield X_l, X_r, y"
   ]
  },
  {
   "cell_type": "code",
   "execution_count": 150,
   "metadata": {},
   "outputs": [],
   "source": [
    "def train(model, iterator, optimizer, criterion, clip=10.):\n",
    "    \n",
    "    epoch_loss = 0\n",
    "    epoch_acc = 0\n",
    "    \n",
    "    model.train()\n",
    "    iteration = 1\n",
    "    for X_l, X_r, y in iterator:\n",
    "        \n",
    "        optimizer.zero_grad()\n",
    "        \n",
    "        predictions = model(X_l, X_r).squeeze(1)\n",
    "#         print(X.shape)\n",
    "        \n",
    "        loss = criterion(predictions, y)\n",
    "        \n",
    "        acc = binary_accuracy(predictions, y)\n",
    "        \n",
    "        loss.backward()\n",
    "        _ = torch.nn.utils.clip_grad_norm_(model.parameters(), clip)\n",
    "        \n",
    "        optimizer.step()\n",
    "        \n",
    "        epoch_loss += loss.item()\n",
    "        epoch_acc += acc.item()\n",
    "        iteration += 1\n",
    "        \n",
    "    return epoch_loss / iteration, epoch_acc / iteration"
   ]
  },
  {
   "cell_type": "markdown",
   "metadata": {},
   "source": [
    "We define a function for testing our model...\n",
    "\n",
    "**Note**: as we are now using dropout, we must remember to use `model.eval()` to ensure the dropout is \"turned off\" while evaluating."
   ]
  },
  {
   "cell_type": "code",
   "execution_count": 151,
   "metadata": {},
   "outputs": [],
   "source": [
    "def evaluate(model, iterator, criterion):\n",
    "    \n",
    "    epoch_loss = 0\n",
    "    epoch_acc = 0\n",
    "    \n",
    "    model.eval()\n",
    "    iteration = 1\n",
    "    with torch.no_grad():\n",
    "    \n",
    "        for X_l, X_r, y in iterator:\n",
    "            \n",
    "            predictions = model(X_l, X_r).squeeze(1)\n",
    "            \n",
    "            loss = criterion(predictions, y)\n",
    "            \n",
    "            acc = binary_accuracy(predictions, y)\n",
    "\n",
    "            epoch_loss += loss.item()\n",
    "            epoch_acc += acc.item()\n",
    "            iteration += 1\n",
    "    return epoch_loss / iteration, epoch_acc / iteration"
   ]
  },
  {
   "cell_type": "markdown",
   "metadata": {},
   "source": [
    "Finally, we train our model..."
   ]
  },
  {
   "cell_type": "code",
   "execution_count": null,
   "metadata": {
    "scrolled": true
   },
   "outputs": [
    {
     "name": "stdout",
     "output_type": "stream",
     "text": [
      "| Epoch: 01 | Train Loss: 0.663 | Train Acc: 56.81% | Val. Loss: 0.552 | Val. Acc: 52.94% |\n",
      "| Epoch: 02 | Train Loss: 0.567 | Train Acc: 67.50% | Val. Loss: 0.562 | Val. Acc: 56.17% |\n",
      "| Epoch: 03 | Train Loss: 0.449 | Train Acc: 76.88% | Val. Loss: 0.604 | Val. Acc: 58.85% |\n",
      "| Epoch: 04 | Train Loss: 0.309 | Train Acc: 84.81% | Val. Loss: 0.893 | Val. Acc: 57.33% |\n",
      "| Epoch: 05 | Train Loss: 0.216 | Train Acc: 89.07% | Val. Loss: 0.997 | Val. Acc: 58.02% |\n",
      "| Epoch: 06 | Train Loss: 0.165 | Train Acc: 91.42% | Val. Loss: 1.413 | Val. Acc: 57.84% |\n"
     ]
    }
   ],
   "source": [
    "N_EPOCHS = 7\n",
    "\n",
    "for epoch in range(N_EPOCHS):\n",
    "    data = data.sample(frac=1., random_state=epoch)\n",
    "    data_val = data_val.sample(frac=1., random_state=epoch)\n",
    "    \n",
    "    train_iterator = data_iterator(data, BATCH_SIZE, 'Question_encoded',\n",
    "                                   'Sentence_encoded', 'Label', device)\n",
    "    valid_iterator = data_iterator(data_val, BATCH_SIZE, 'Question_encoded',\n",
    "                                   'Sentence_encoded', 'Label', device)\n",
    "\n",
    "    train_loss, train_acc = train(model, train_iterator, optimizer, criterion)\n",
    "    valid_loss, valid_acc = evaluate(model, valid_iterator, criterion)\n",
    "    \n",
    "    print(f'| Epoch: {epoch+1:02} | Train Loss: {train_loss:.3f} | Train Acc: {train_acc*100:.2f}% | Val. Loss: {valid_loss:.3f} | Val. Acc: {valid_acc*100:.2f}% |')"
   ]
  },
  {
   "cell_type": "code",
   "execution_count": 121,
   "metadata": {},
   "outputs": [
    {
     "data": {
      "text/plain": [
       "(38616, 3)"
      ]
     },
     "execution_count": 121,
     "metadata": {},
     "output_type": "execute_result"
    }
   ],
   "source": [
    "data.shape"
   ]
  },
  {
   "cell_type": "code",
   "execution_count": 122,
   "metadata": {},
   "outputs": [
    {
     "data": {
      "text/plain": [
       "tensor([0., 0., 0., 0., 1., 0., 0., 0., 0., 0., 0., 0., 0., 0., 0., 0.],\n",
       "       device='cuda:0')"
      ]
     },
     "execution_count": 122,
     "metadata": {},
     "output_type": "execute_result"
    }
   ],
   "source": [
    "test_iterator = data_iterator(data_test.sample(n=16, random_state=8), 16, 'Question_encoded',\n",
    "                               'Sentence_encoded', 'Label', device)\n",
    "\n",
    "\n",
    "X_l, X_r, y = next(test_iterator)\n",
    "y"
   ]
  },
  {
   "cell_type": "code",
   "execution_count": 123,
   "metadata": {},
   "outputs": [
    {
     "name": "stdout",
     "output_type": "stream",
     "text": [
      "what is the formula for calcium nitrate \n",
      "\n",
      "calcium nitrate also called <unk> norwegian saltpeter is the inorganic compound with the formula ca no \n",
      "\n",
      "tensor(1., device='cuda:0')\n"
     ]
    }
   ],
   "source": [
    "model.eval()\n",
    "y_pred = model(X_l, X_r)\n",
    "att_mat_l = model.l_probas\n",
    "att_mat_r = model.r_probas\n",
    "\n",
    "import pickle\n",
    "import seaborn as sns\n",
    "import matplotlib.pyplot as plt\n",
    "\n",
    "def loadobj(path):\n",
    "    with open(path, 'rb') as fin:\n",
    "        return pickle.load(fin)\n",
    "\n",
    "id2token = loadobj('./data/processed/index2word.pickle')\n",
    "\n",
    "# i = 10\n",
    "# i_head = 2\n",
    "# q = X_l[i]\n",
    "# a = X_r[i]\n",
    "# l = y[3]\n",
    "# model(q.unsqueeze(0),a.unsqueeze(0))\n",
    "# l_mat = model.l_probas[i_head][0]\n",
    "# r_mat = model.r_probas[i_head][0]\n",
    "\n",
    "# q_s = ' '.join([id2token[i] for i in q.detach().tolist() if i != 0])\n",
    "# print(q_s, '\\n')\n",
    "\n",
    "# a_s = ' '.join([id2token[i] for i in a.detach().tolist() if i != 0])\n",
    "# print(a_s, '\\n')\n",
    "\n",
    "# print(l)\n",
    "\n",
    "\n",
    "i = 4\n",
    "i_head = 0\n",
    "q = X_l[i]\n",
    "a = X_r[i]\n",
    "l = y[i]\n",
    "model(q.unsqueeze(0),a.unsqueeze(0))\n",
    "l_mat = model.l_probas.detach().cpu().numpy().flatten().reshape(1,-1)\n",
    "r_mat = model.r_probas.detach().cpu().numpy().flatten().reshape(1,-1)\n",
    "\n",
    "q_s = ' '.join([id2token[i] for i in q.detach().tolist() if i != 0])\n",
    "print(q_s, '\\n')\n",
    "\n",
    "a_s = ' '.join([id2token[i] for i in a.detach().tolist() if i != 0])\n",
    "print(a_s, '\\n')\n",
    "\n",
    "print(l)"
   ]
  },
  {
   "cell_type": "code",
   "execution_count": 124,
   "metadata": {},
   "outputs": [
    {
     "data": {
      "image/png": "[encoded data removed]",
      "text/plain": [
       "<matplotlib.figure.Figure at 0x7f1291f50f28>"
      ]
     },
     "metadata": {},
     "output_type": "display_data"
    }
   ],
   "source": [
    "plt.figure(figsize=(18,1))\n",
    "sns.heatmap(l_mat[:, :len(q_s.split())])\n",
    "_ = plt.xticks(range(len(q_s.split())), q_s.split(), rotation=90)"
   ]
  },
  {
   "cell_type": "code",
   "execution_count": 125,
   "metadata": {},
   "outputs": [
    {
     "data": {
      "image/png": "[encoded data removed]",
      "text/plain": [
       "<matplotlib.figure.Figure at 0x7f12740caac8>"
      ]
     },
     "metadata": {},
     "output_type": "display_data"
    }
   ],
   "source": [
    "plt.figure(figsize=(18,1))\n",
    "sns.heatmap(r_mat[:, :len(a_s.split())])\n",
    "_ = plt.xticks(range(len(a_s.split())), a_s.split(), rotation=90)"
   ]
  },
  {
   "cell_type": "markdown",
   "metadata": {},
   "source": [
    "...and get our new and vastly improved test accuracy!"
   ]
  },
  {
   "cell_type": "code",
   "execution_count": 126,
   "metadata": {},
   "outputs": [],
   "source": [
    "test_iterator = data_iterator(data_val.sample(n=16, random_state=11), 16, 'Question_encoded',\n",
    "                               'Sentence_encoded', 'Label', device)"
   ]
  },
  {
   "cell_type": "code",
   "execution_count": 127,
   "metadata": {},
   "outputs": [
    {
     "data": {
      "text/plain": [
       "tensor([1., 1., 0., 0., 0., 0., 0., 1., 0., 1., 1., 0., 0., 0., 1., 0.],\n",
       "       device='cuda:0')"
      ]
     },
     "execution_count": 127,
     "metadata": {},
     "output_type": "execute_result"
    }
   ],
   "source": [
    "X_l, X_r, y = next(test_iterator)\n",
    "y"
   ]
  },
  {
   "cell_type": "code",
   "execution_count": 128,
   "metadata": {},
   "outputs": [
    {
     "name": "stdout",
     "output_type": "stream",
     "text": [
      "how are epithelial tissues joined together \n",
      "\n",
      "in biology tissue is a cellular organizational level intermediate between cells and a complete organism \n",
      "\n",
      "tensor(0., device='cuda:0')\n"
     ]
    }
   ],
   "source": [
    "model.eval()\n",
    "y_pred = model(X_l, X_r)\n",
    "att_mat_l = model.l_probas\n",
    "att_mat_r = model.r_probas\n",
    "\n",
    "import pickle\n",
    "import seaborn as sns\n",
    "import matplotlib.pyplot as plt\n",
    "\n",
    "def loadobj(path):\n",
    "    with open(path, 'rb') as fin:\n",
    "        return pickle.load(fin)\n",
    "\n",
    "id2token = loadobj('./data/processed/index2word.pickle')\n",
    "\n",
    "# i = 10\n",
    "# i_head = 2\n",
    "# q = X_l[i]\n",
    "# a = X_r[i]\n",
    "# l = y[3]\n",
    "# model(q.unsqueeze(0),a.unsqueeze(0))\n",
    "# l_mat = model.l_probas[i_head][0]\n",
    "# r_mat = model.r_probas[i_head][0]\n",
    "\n",
    "# q_s = ' '.join([id2token[i] for i in q.detach().tolist() if i != 0])\n",
    "# print(q_s, '\\n')\n",
    "\n",
    "# a_s = ' '.join([id2token[i] for i in a.detach().tolist() if i != 0])\n",
    "# print(a_s, '\\n')\n",
    "\n",
    "# print(l)\n",
    "\n",
    "\n",
    "i = 12\n",
    "i_head = 0\n",
    "q = X_l[i]\n",
    "a = X_r[i]\n",
    "l = y[i]\n",
    "model(q.unsqueeze(0),a.unsqueeze(0))\n",
    "l_mat = model.l_probas.detach().cpu().numpy().flatten().reshape(1,-1)\n",
    "r_mat = model.r_probas.detach().cpu().numpy().flatten().reshape(1,-1)\n",
    "\n",
    "q_s = ' '.join([id2token[i] for i in q.detach().tolist() if i != 0])\n",
    "print(q_s, '\\n')\n",
    "\n",
    "a_s = ' '.join([id2token[i] for i in a.detach().tolist() if i != 0])\n",
    "print(a_s, '\\n')\n",
    "\n",
    "print(l)"
   ]
  },
  {
   "cell_type": "code",
   "execution_count": 129,
   "metadata": {},
   "outputs": [
    {
     "data": {
      "image/png": "[encoded data removed]",
      "text/plain": [
       "<matplotlib.figure.Figure at 0x7f1291ab5550>"
      ]
     },
     "metadata": {},
     "output_type": "display_data"
    }
   ],
   "source": [
    "plt.figure(figsize=(18,1))\n",
    "sns.heatmap(l_mat[:, :len(q_s.split())])\n",
    "_ = plt.xticks(range(len(q_s.split())), q_s.split(), rotation=90)"
   ]
  },
  {
   "cell_type": "code",
   "execution_count": 90,
   "metadata": {},
   "outputs": [
    {
     "data": {
      "image/png": "[encoded data removed]",
      "text/plain": [
       "<matplotlib.figure.Figure at 0x7f12904ba780>"
      ]
     },
     "metadata": {},
     "output_type": "display_data"
    }
   ],
   "source": [
    "plt.figure(figsize=(18,1))\n",
    "sns.heatmap(r_mat[:, :len(a_s.split())])\n",
    "_ = plt.xticks(range(len(a_s.split())), a_s.split(), rotation=90)"
   ]
  },
  {
   "cell_type": "code",
   "execution_count": 55,
   "metadata": {},
   "outputs": [],
   "source": [
    "test_iterator = data_iterator(data_val.sample(n=16, random_state=19), 16, 'Question_encoded',\n",
    "                               'Sentence_encoded', 'Label', device)"
   ]
  },
  {
   "cell_type": "code",
   "execution_count": 56,
   "metadata": {},
   "outputs": [
    {
     "data": {
      "text/plain": [
       "tensor([1., 0., 0., 0., 0., 1., 0., 1., 1., 0., 1., 1., 0., 1., 1., 1.],\n",
       "       device='cuda:0')"
      ]
     },
     "execution_count": 56,
     "metadata": {},
     "output_type": "execute_result"
    }
   ],
   "source": [
    "X_l, X_r, y = next(test_iterator)\n",
    "y"
   ]
  },
  {
   "cell_type": "code",
   "execution_count": 57,
   "metadata": {},
   "outputs": [
    {
     "name": "stdout",
     "output_type": "stream",
     "text": [
      "what is the function of albumin \n",
      "\n",
      "albumin transports hormones fatty acids and other compounds buffers ph and maintains osmotic pressure among other functions \n",
      "\n",
      "tensor(1., device='cuda:0')\n"
     ]
    }
   ],
   "source": [
    "model.eval()\n",
    "y_pred = model(X_l, X_r)\n",
    "att_mat_l = model.l_probas\n",
    "att_mat_r = model.r_probas\n",
    "\n",
    "import pickle\n",
    "import seaborn as sns\n",
    "import matplotlib.pyplot as plt\n",
    "\n",
    "def loadobj(path):\n",
    "    with open(path, 'rb') as fin:\n",
    "        return pickle.load(fin)\n",
    "\n",
    "id2token = loadobj('./data/processed/index2word.pickle')\n",
    "\n",
    "# i = 10\n",
    "# i_head = 2\n",
    "# q = X_l[i]\n",
    "# a = X_r[i]\n",
    "# l = y[3]\n",
    "# model(q.unsqueeze(0),a.unsqueeze(0))\n",
    "# l_mat = model.l_probas[i_head][0]\n",
    "# r_mat = model.r_probas[i_head][0]\n",
    "\n",
    "# q_s = ' '.join([id2token[i] for i in q.detach().tolist() if i != 0])\n",
    "# print(q_s, '\\n')\n",
    "\n",
    "# a_s = ' '.join([id2token[i] for i in a.detach().tolist() if i != 0])\n",
    "# print(a_s, '\\n')\n",
    "\n",
    "# print(l)\n",
    "\n",
    "\n",
    "i = 15\n",
    "i_head = 0\n",
    "q = X_l[i]\n",
    "a = X_r[i]\n",
    "l = y[i]\n",
    "model(q.unsqueeze(0),a.unsqueeze(0))\n",
    "l_mat = model.l_probas.detach().cpu().numpy().flatten().reshape(1,-1)\n",
    "r_mat = model.r_probas.detach().cpu().numpy().flatten().reshape(1,-1)\n",
    "\n",
    "q_s = ' '.join([id2token[i] for i in q.detach().tolist() if i != 0])\n",
    "print(q_s, '\\n')\n",
    "\n",
    "a_s = ' '.join([id2token[i] for i in a.detach().tolist() if i != 0])\n",
    "print(a_s, '\\n')\n",
    "\n",
    "print(l)"
   ]
  },
  {
   "cell_type": "code",
   "execution_count": 58,
   "metadata": {},
   "outputs": [
    {
     "data": {
      "image/png": "[encoded data removed]",
      "text/plain": [
       "<matplotlib.figure.Figure at 0x7f130e8216a0>"
      ]
     },
     "metadata": {},
     "output_type": "display_data"
    }
   ],
   "source": [
    "plt.figure(figsize=(18,1))\n",
    "sns.heatmap(l_mat[:, :len(q_s.split())])\n",
    "_ = plt.xticks(range(len(q_s.split())), q_s.split(), rotation=90)"
   ]
  },
  {
   "cell_type": "code",
   "execution_count": 59,
   "metadata": {},
   "outputs": [
    {
     "data": {
      "image/png": "[encoded data removed]",
      "text/plain": [
       "<matplotlib.figure.Figure at 0x7f1252d67390>"
      ]
     },
     "metadata": {},
     "output_type": "display_data"
    }
   ],
   "source": [
    "plt.figure(figsize=(18,1))\n",
    "sns.heatmap(r_mat[:, :len(a_s.split())])\n",
    "_ = plt.xticks(range(len(a_s.split())), a_s.split(), rotation=90)"
   ]
  },
  {
   "cell_type": "markdown",
   "metadata": {},
   "source": [
    "## User Input\n",
    "\n",
    "We can now use our model to predict the sentiment of any sentence we give it. As it has been trained on movie reviews, the sentences provided should also be movie reviews.\n",
    "\n",
    "Our `predict_sentiment` function does a few things:\n",
    "- tokenizes the sentence, i.e. splits it from a raw string into a list of tokens\n",
    "- indexes the tokens by converting them into their integer representation from our vocabulary\n",
    "- converts the indexes, which are a Python list into a PyTorch tensor\n",
    "- add a batch dimension by `unsqueeze`ing \n",
    "- squashes the output prediction from a real number between 0 and 1 with the `sigmoid` function\n",
    "- converts the tensor holding a single value into an integer with the `item()` method\n",
    "\n",
    "We are expecting reviews with a negative sentiment to return a value close to 0 and positive reviews to return a value close to 1."
   ]
  },
  {
   "cell_type": "code",
   "execution_count": null,
   "metadata": {},
   "outputs": [],
   "source": [
    "import spacy\n",
    "nlp = spacy.load('en')\n",
    "\n",
    "def predict_sentiment(sentence):\n",
    "    tokenized = [tok.text for tok in nlp.tokenizer(sentence)]\n",
    "    indexed = [TEXT.vocab.stoi[t] for t in tokenized]\n",
    "    tensor = torch.LongTensor(indexed).to(device)\n",
    "    tensor = tensor.unsqueeze(1)\n",
    "    prediction = torch.sigmoid(model(tensor))\n",
    "    return prediction.item()"
   ]
  },
  {
   "cell_type": "markdown",
   "metadata": {},
   "source": [
    "An example negative review..."
   ]
  },
  {
   "cell_type": "code",
   "execution_count": null,
   "metadata": {},
   "outputs": [],
   "source": [
    "predict_sentiment(\"This film is terrible\")"
   ]
  },
  {
   "cell_type": "markdown",
   "metadata": {},
   "source": [
    "An example positive review..."
   ]
  },
  {
   "cell_type": "code",
   "execution_count": null,
   "metadata": {},
   "outputs": [],
   "source": [
    "predict_sentiment(\"This film is great\")"
   ]
  },
  {
   "cell_type": "markdown",
   "metadata": {},
   "source": [
    "## Next Steps\n",
    "\n",
    "We've now built a decent sentiment analysis model for movie reviews. However, not all of the steps we have added were necessary to achieve the test accuracy we've achieved. In the next notebook we'll implement a model that gets comparable accuracy with far fewer parameters and trains much, much faster."
   ]
  }
 ],
 "metadata": {
  "kernelspec": {
   "display_name": "Python 3",
   "language": "python",
   "name": "python3"
  },
  "language_info": {
   "codemirror_mode": {
    "name": "ipython",
    "version": 3
   },
   "file_extension": ".py",
   "mimetype": "text/x-python",
   "name": "python",
   "nbconvert_exporter": "python",
   "pygments_lexer": "ipython3",
   "version": "3.6.3"
  }
 },
 "nbformat": 4,
 "nbformat_minor": 2
}
